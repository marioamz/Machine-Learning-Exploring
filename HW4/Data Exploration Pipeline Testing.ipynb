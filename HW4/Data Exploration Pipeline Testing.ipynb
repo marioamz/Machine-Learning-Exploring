{
 "cells": [
  {
   "cell_type": "code",
   "execution_count": 85,
   "metadata": {
    "scrolled": true
   },
   "outputs": [
    {
     "data": {
      "text/plain": [
       "<module 'algorithm_pipeline' from '/Users/mariomoreno/Desktop/Grad School/Machine Learning/Homeworks/HW4/algorithm_pipeline.py'>"
      ]
     },
     "execution_count": 85,
     "metadata": {},
     "output_type": "execute_result"
    }
   ],
   "source": [
    "import data_exploration_final as de\n",
    "import algorithm_pipeline as ap\n",
    "import matplotlib.pyplot as plt\n",
    "import seaborn as sns\n",
    "import pandas as pd\n",
    "from __future__ import division\n",
    "import numpy as np\n",
    "from sklearn.model_selection import train_test_split\n",
    "from sklearn import preprocessing, svm, metrics, tree, decomposition, svm, model_selection\n",
    "from sklearn.ensemble import RandomForestClassifier, ExtraTreesClassifier, GradientBoostingClassifier, AdaBoostClassifier\n",
    "from sklearn.linear_model import LogisticRegression, Perceptron, SGDClassifier, OrthogonalMatchingPursuit, RandomizedLogisticRegression\n",
    "from sklearn.neighbors.nearest_centroid import NearestCentroid\n",
    "from sklearn.naive_bayes import GaussianNB, MultinomialNB, BernoulliNB\n",
    "from sklearn.tree import DecisionTreeClassifier\n",
    "from sklearn.neighbors import KNeighborsClassifier\n",
    "from sklearn.model_selection import train_test_split\n",
    "from sklearn.model_selection import cross_val_score\n",
    "from sklearn.model_selection import ParameterGrid\n",
    "from sklearn.metrics import *\n",
    "from sklearn.preprocessing import StandardScaler\n",
    "import random\n",
    "from datetime import datetime\n",
    "from datetime import timedelta\n",
    "import pylab as pl\n",
    "from scipy import optimize\n",
    "import importlib\n",
    "importlib.reload(de)\n",
    "importlib.reload(ap)"
   ]
  },
  {
   "cell_type": "markdown",
   "metadata": {},
   "source": [
    "# 1) Load and Clean the Data"
   ]
  },
  {
   "cell_type": "markdown",
   "metadata": {},
   "source": [
    "Read in the date into two separate dataframes, outcomes and projects"
   ]
  },
  {
   "cell_type": "code",
   "execution_count": 2,
   "metadata": {
    "collapsed": true
   },
   "outputs": [],
   "source": [
    "unclean_outcomes = de.read_data('outcomes.csv', 0)"
   ]
  },
  {
   "cell_type": "code",
   "execution_count": 3,
   "metadata": {
    "collapsed": true
   },
   "outputs": [],
   "source": [
    "unclean_projects = de.read_data('projects.csv', 0)"
   ]
  },
  {
   "cell_type": "code",
   "execution_count": 4,
   "metadata": {
    "scrolled": true
   },
   "outputs": [
    {
     "data": {
      "text/html": [
       "<div>\n",
       "<style>\n",
       "    .dataframe thead tr:only-child th {\n",
       "        text-align: right;\n",
       "    }\n",
       "\n",
       "    .dataframe thead th {\n",
       "        text-align: left;\n",
       "    }\n",
       "\n",
       "    .dataframe tbody tr th {\n",
       "        vertical-align: top;\n",
       "    }\n",
       "</style>\n",
       "<table border=\"1\" class=\"dataframe\">\n",
       "  <thead>\n",
       "    <tr style=\"text-align: right;\">\n",
       "      <th></th>\n",
       "      <th>projectid</th>\n",
       "      <th>is_exciting</th>\n",
       "      <th>at_least_1_teacher_referred_donor</th>\n",
       "      <th>fully_funded</th>\n",
       "      <th>at_least_1_green_donation</th>\n",
       "      <th>great_chat</th>\n",
       "      <th>three_or_more_non_teacher_referred_donors</th>\n",
       "      <th>one_non_teacher_referred_donor_giving_100_plus</th>\n",
       "      <th>donation_from_thoughtful_donor</th>\n",
       "      <th>great_messages_proportion</th>\n",
       "      <th>teacher_referred_count</th>\n",
       "      <th>non_teacher_referred_count</th>\n",
       "    </tr>\n",
       "  </thead>\n",
       "  <tbody>\n",
       "    <tr>\n",
       "      <th>0</th>\n",
       "      <td>ffffc4f85b60efc5b52347df489d0238</td>\n",
       "      <td>f</td>\n",
       "      <td>NaN</td>\n",
       "      <td>f</td>\n",
       "      <td>NaN</td>\n",
       "      <td>f</td>\n",
       "      <td>NaN</td>\n",
       "      <td>NaN</td>\n",
       "      <td>NaN</td>\n",
       "      <td>NaN</td>\n",
       "      <td>NaN</td>\n",
       "      <td>NaN</td>\n",
       "    </tr>\n",
       "    <tr>\n",
       "      <th>1</th>\n",
       "      <td>ffffac55ee02a49d1abc87ba6fc61135</td>\n",
       "      <td>f</td>\n",
       "      <td>f</td>\n",
       "      <td>t</td>\n",
       "      <td>t</td>\n",
       "      <td>f</td>\n",
       "      <td>t</td>\n",
       "      <td>f</td>\n",
       "      <td>f</td>\n",
       "      <td>57.0</td>\n",
       "      <td>0.0</td>\n",
       "      <td>7.0</td>\n",
       "    </tr>\n",
       "    <tr>\n",
       "      <th>2</th>\n",
       "      <td>ffff97ed93720407d70a2787475932b0</td>\n",
       "      <td>f</td>\n",
       "      <td>f</td>\n",
       "      <td>t</td>\n",
       "      <td>t</td>\n",
       "      <td>t</td>\n",
       "      <td>t</td>\n",
       "      <td>t</td>\n",
       "      <td>f</td>\n",
       "      <td>100.0</td>\n",
       "      <td>0.0</td>\n",
       "      <td>3.0</td>\n",
       "    </tr>\n",
       "    <tr>\n",
       "      <th>3</th>\n",
       "      <td>ffff418bb42fad24347527ad96100f81</td>\n",
       "      <td>f</td>\n",
       "      <td>f</td>\n",
       "      <td>f</td>\n",
       "      <td>t</td>\n",
       "      <td>t</td>\n",
       "      <td>f</td>\n",
       "      <td>f</td>\n",
       "      <td>f</td>\n",
       "      <td>100.0</td>\n",
       "      <td>0.0</td>\n",
       "      <td>1.0</td>\n",
       "    </tr>\n",
       "    <tr>\n",
       "      <th>4</th>\n",
       "      <td>ffff2d9c769c8fb5335e949c615425eb</td>\n",
       "      <td>t</td>\n",
       "      <td>t</td>\n",
       "      <td>t</td>\n",
       "      <td>t</td>\n",
       "      <td>t</td>\n",
       "      <td>f</td>\n",
       "      <td>t</td>\n",
       "      <td>f</td>\n",
       "      <td>63.0</td>\n",
       "      <td>6.0</td>\n",
       "      <td>2.0</td>\n",
       "    </tr>\n",
       "  </tbody>\n",
       "</table>\n",
       "</div>"
      ],
      "text/plain": [
       "                          projectid is_exciting  \\\n",
       "0  ffffc4f85b60efc5b52347df489d0238           f   \n",
       "1  ffffac55ee02a49d1abc87ba6fc61135           f   \n",
       "2  ffff97ed93720407d70a2787475932b0           f   \n",
       "3  ffff418bb42fad24347527ad96100f81           f   \n",
       "4  ffff2d9c769c8fb5335e949c615425eb           t   \n",
       "\n",
       "  at_least_1_teacher_referred_donor fully_funded at_least_1_green_donation  \\\n",
       "0                               NaN            f                       NaN   \n",
       "1                                 f            t                         t   \n",
       "2                                 f            t                         t   \n",
       "3                                 f            f                         t   \n",
       "4                                 t            t                         t   \n",
       "\n",
       "  great_chat three_or_more_non_teacher_referred_donors  \\\n",
       "0          f                                       NaN   \n",
       "1          f                                         t   \n",
       "2          t                                         t   \n",
       "3          t                                         f   \n",
       "4          t                                         f   \n",
       "\n",
       "  one_non_teacher_referred_donor_giving_100_plus  \\\n",
       "0                                            NaN   \n",
       "1                                              f   \n",
       "2                                              t   \n",
       "3                                              f   \n",
       "4                                              t   \n",
       "\n",
       "  donation_from_thoughtful_donor  great_messages_proportion  \\\n",
       "0                            NaN                        NaN   \n",
       "1                              f                       57.0   \n",
       "2                              f                      100.0   \n",
       "3                              f                      100.0   \n",
       "4                              f                       63.0   \n",
       "\n",
       "   teacher_referred_count  non_teacher_referred_count  \n",
       "0                     NaN                         NaN  \n",
       "1                     0.0                         7.0  \n",
       "2                     0.0                         3.0  \n",
       "3                     0.0                         1.0  \n",
       "4                     6.0                         2.0  "
      ]
     },
     "execution_count": 4,
     "metadata": {},
     "output_type": "execute_result"
    }
   ],
   "source": [
    "unclean_outcomes.head()"
   ]
  },
  {
   "cell_type": "markdown",
   "metadata": {},
   "source": [
    "Outcomes includes our label. In order to protect from leaking data from the future into my dataset, I will drop the other variables for this dataframe because these are things I would only know once my project has been funded. I wouldn't know this information at time of prediciton."
   ]
  },
  {
   "cell_type": "code",
   "execution_count": 5,
   "metadata": {},
   "outputs": [
    {
     "data": {
      "text/html": [
       "<div>\n",
       "<style>\n",
       "    .dataframe thead tr:only-child th {\n",
       "        text-align: right;\n",
       "    }\n",
       "\n",
       "    .dataframe thead th {\n",
       "        text-align: left;\n",
       "    }\n",
       "\n",
       "    .dataframe tbody tr th {\n",
       "        vertical-align: top;\n",
       "    }\n",
       "</style>\n",
       "<table border=\"1\" class=\"dataframe\">\n",
       "  <thead>\n",
       "    <tr style=\"text-align: right;\">\n",
       "      <th></th>\n",
       "      <th>projectid</th>\n",
       "      <th>fully_funded</th>\n",
       "    </tr>\n",
       "  </thead>\n",
       "  <tbody>\n",
       "    <tr>\n",
       "      <th>0</th>\n",
       "      <td>ffffc4f85b60efc5b52347df489d0238</td>\n",
       "      <td>f</td>\n",
       "    </tr>\n",
       "    <tr>\n",
       "      <th>1</th>\n",
       "      <td>ffffac55ee02a49d1abc87ba6fc61135</td>\n",
       "      <td>t</td>\n",
       "    </tr>\n",
       "    <tr>\n",
       "      <th>2</th>\n",
       "      <td>ffff97ed93720407d70a2787475932b0</td>\n",
       "      <td>t</td>\n",
       "    </tr>\n",
       "    <tr>\n",
       "      <th>3</th>\n",
       "      <td>ffff418bb42fad24347527ad96100f81</td>\n",
       "      <td>f</td>\n",
       "    </tr>\n",
       "    <tr>\n",
       "      <th>4</th>\n",
       "      <td>ffff2d9c769c8fb5335e949c615425eb</td>\n",
       "      <td>t</td>\n",
       "    </tr>\n",
       "  </tbody>\n",
       "</table>\n",
       "</div>"
      ],
      "text/plain": [
       "                          projectid fully_funded\n",
       "0  ffffc4f85b60efc5b52347df489d0238            f\n",
       "1  ffffac55ee02a49d1abc87ba6fc61135            t\n",
       "2  ffff97ed93720407d70a2787475932b0            t\n",
       "3  ffff418bb42fad24347527ad96100f81            f\n",
       "4  ffff2d9c769c8fb5335e949c615425eb            t"
      ]
     },
     "execution_count": 5,
     "metadata": {},
     "output_type": "execute_result"
    }
   ],
   "source": [
    "unclean_outcomes = unclean_outcomes.loc[:,['projectid','fully_funded']]\n",
    "unclean_outcomes.head()"
   ]
  },
  {
   "cell_type": "code",
   "execution_count": 6,
   "metadata": {
    "scrolled": true
   },
   "outputs": [
    {
     "data": {
      "text/html": [
       "<div>\n",
       "<style>\n",
       "    .dataframe thead tr:only-child th {\n",
       "        text-align: right;\n",
       "    }\n",
       "\n",
       "    .dataframe thead th {\n",
       "        text-align: left;\n",
       "    }\n",
       "\n",
       "    .dataframe tbody tr th {\n",
       "        vertical-align: top;\n",
       "    }\n",
       "</style>\n",
       "<table border=\"1\" class=\"dataframe\">\n",
       "  <thead>\n",
       "    <tr style=\"text-align: right;\">\n",
       "      <th></th>\n",
       "      <th>projectid</th>\n",
       "      <th>teacher_acctid</th>\n",
       "      <th>schoolid</th>\n",
       "      <th>school_ncesid</th>\n",
       "      <th>school_latitude</th>\n",
       "      <th>school_longitude</th>\n",
       "      <th>school_city</th>\n",
       "      <th>school_state</th>\n",
       "      <th>school_zip</th>\n",
       "      <th>school_metro</th>\n",
       "      <th>...</th>\n",
       "      <th>resource_type</th>\n",
       "      <th>poverty_level</th>\n",
       "      <th>grade_level</th>\n",
       "      <th>fulfillment_labor_materials</th>\n",
       "      <th>total_price_excluding_optional_support</th>\n",
       "      <th>total_price_including_optional_support</th>\n",
       "      <th>students_reached</th>\n",
       "      <th>eligible_double_your_impact_match</th>\n",
       "      <th>eligible_almost_home_match</th>\n",
       "      <th>date_posted</th>\n",
       "    </tr>\n",
       "  </thead>\n",
       "  <tbody>\n",
       "    <tr>\n",
       "      <th>0</th>\n",
       "      <td>316ed8fb3b81402ff6ac8f721bb31192</td>\n",
       "      <td>42d43fa6f37314365d08692e08680973</td>\n",
       "      <td>c0e6ce89b244764085691a1b8e28cb81</td>\n",
       "      <td>6.362701e+10</td>\n",
       "      <td>36.576340</td>\n",
       "      <td>-119.608713</td>\n",
       "      <td>Selma</td>\n",
       "      <td>CA</td>\n",
       "      <td>93662.0</td>\n",
       "      <td>NaN</td>\n",
       "      <td>...</td>\n",
       "      <td>Books</td>\n",
       "      <td>highest poverty</td>\n",
       "      <td>Grades 6-8</td>\n",
       "      <td>30.0</td>\n",
       "      <td>555.81</td>\n",
       "      <td>653.89</td>\n",
       "      <td>32.0</td>\n",
       "      <td>f</td>\n",
       "      <td>f</td>\n",
       "      <td>2014-05-12</td>\n",
       "    </tr>\n",
       "    <tr>\n",
       "      <th>1</th>\n",
       "      <td>90de744e368a7e4883223ca49318ae30</td>\n",
       "      <td>864eb466462bf704bf7a16a585ef296a</td>\n",
       "      <td>d711e47810900c96f26a5d0be30c446d</td>\n",
       "      <td>4.837020e+11</td>\n",
       "      <td>32.911179</td>\n",
       "      <td>-96.723640</td>\n",
       "      <td>Dallas</td>\n",
       "      <td>TX</td>\n",
       "      <td>75243.0</td>\n",
       "      <td>urban</td>\n",
       "      <td>...</td>\n",
       "      <td>Books</td>\n",
       "      <td>highest poverty</td>\n",
       "      <td>Grades PreK-2</td>\n",
       "      <td>30.0</td>\n",
       "      <td>296.47</td>\n",
       "      <td>348.79</td>\n",
       "      <td>22.0</td>\n",
       "      <td>f</td>\n",
       "      <td>f</td>\n",
       "      <td>2014-05-12</td>\n",
       "    </tr>\n",
       "    <tr>\n",
       "      <th>2</th>\n",
       "      <td>32943bb1063267de6ed19fc0ceb4b9a7</td>\n",
       "      <td>37f85135259ece793213aca9d8765542</td>\n",
       "      <td>665c3613013ba0a66e3a2a26b89f1b68</td>\n",
       "      <td>4.103270e+11</td>\n",
       "      <td>45.166039</td>\n",
       "      <td>-122.414576</td>\n",
       "      <td>Colton</td>\n",
       "      <td>OR</td>\n",
       "      <td>97017.0</td>\n",
       "      <td>rural</td>\n",
       "      <td>...</td>\n",
       "      <td>Technology</td>\n",
       "      <td>high poverty</td>\n",
       "      <td>Grades PreK-2</td>\n",
       "      <td>30.0</td>\n",
       "      <td>430.89</td>\n",
       "      <td>506.93</td>\n",
       "      <td>17.0</td>\n",
       "      <td>f</td>\n",
       "      <td>f</td>\n",
       "      <td>2014-05-11</td>\n",
       "    </tr>\n",
       "    <tr>\n",
       "      <th>3</th>\n",
       "      <td>bb18f409abda2f264d5acda8cab577a9</td>\n",
       "      <td>2133fc46f951f1e7d60645b0f9e48a6c</td>\n",
       "      <td>4f12c3fa0c1cce823c7ba1df57e90ccb</td>\n",
       "      <td>3.600153e+11</td>\n",
       "      <td>40.641727</td>\n",
       "      <td>-73.965655</td>\n",
       "      <td>Brooklyn</td>\n",
       "      <td>NY</td>\n",
       "      <td>11226.0</td>\n",
       "      <td>urban</td>\n",
       "      <td>...</td>\n",
       "      <td>Books</td>\n",
       "      <td>highest poverty</td>\n",
       "      <td>Grades 3-5</td>\n",
       "      <td>30.0</td>\n",
       "      <td>576.07</td>\n",
       "      <td>677.73</td>\n",
       "      <td>12.0</td>\n",
       "      <td>f</td>\n",
       "      <td>f</td>\n",
       "      <td>2014-05-11</td>\n",
       "    </tr>\n",
       "    <tr>\n",
       "      <th>4</th>\n",
       "      <td>24761b686e18e5eace634607acbcc19f</td>\n",
       "      <td>867ff478a63f5457eaf41049536c47cd</td>\n",
       "      <td>10179fd362d7b8cf0e89baa1ca3025bb</td>\n",
       "      <td>6.227100e+10</td>\n",
       "      <td>34.043939</td>\n",
       "      <td>-118.288371</td>\n",
       "      <td>Los Angeles</td>\n",
       "      <td>CA</td>\n",
       "      <td>90006.0</td>\n",
       "      <td>urban</td>\n",
       "      <td>...</td>\n",
       "      <td>Other</td>\n",
       "      <td>highest poverty</td>\n",
       "      <td>Grades PreK-2</td>\n",
       "      <td>30.0</td>\n",
       "      <td>408.40</td>\n",
       "      <td>480.47</td>\n",
       "      <td>24.0</td>\n",
       "      <td>f</td>\n",
       "      <td>f</td>\n",
       "      <td>2014-05-11</td>\n",
       "    </tr>\n",
       "  </tbody>\n",
       "</table>\n",
       "<p>5 rows × 35 columns</p>\n",
       "</div>"
      ],
      "text/plain": [
       "                          projectid                    teacher_acctid  \\\n",
       "0  316ed8fb3b81402ff6ac8f721bb31192  42d43fa6f37314365d08692e08680973   \n",
       "1  90de744e368a7e4883223ca49318ae30  864eb466462bf704bf7a16a585ef296a   \n",
       "2  32943bb1063267de6ed19fc0ceb4b9a7  37f85135259ece793213aca9d8765542   \n",
       "3  bb18f409abda2f264d5acda8cab577a9  2133fc46f951f1e7d60645b0f9e48a6c   \n",
       "4  24761b686e18e5eace634607acbcc19f  867ff478a63f5457eaf41049536c47cd   \n",
       "\n",
       "                           schoolid  school_ncesid  school_latitude  \\\n",
       "0  c0e6ce89b244764085691a1b8e28cb81   6.362701e+10        36.576340   \n",
       "1  d711e47810900c96f26a5d0be30c446d   4.837020e+11        32.911179   \n",
       "2  665c3613013ba0a66e3a2a26b89f1b68   4.103270e+11        45.166039   \n",
       "3  4f12c3fa0c1cce823c7ba1df57e90ccb   3.600153e+11        40.641727   \n",
       "4  10179fd362d7b8cf0e89baa1ca3025bb   6.227100e+10        34.043939   \n",
       "\n",
       "   school_longitude  school_city school_state  school_zip school_metro  \\\n",
       "0       -119.608713        Selma           CA     93662.0          NaN   \n",
       "1        -96.723640       Dallas           TX     75243.0        urban   \n",
       "2       -122.414576       Colton           OR     97017.0        rural   \n",
       "3        -73.965655     Brooklyn           NY     11226.0        urban   \n",
       "4       -118.288371  Los Angeles           CA     90006.0        urban   \n",
       "\n",
       "      ...     resource_type    poverty_level    grade_level  \\\n",
       "0     ...             Books  highest poverty     Grades 6-8   \n",
       "1     ...             Books  highest poverty  Grades PreK-2   \n",
       "2     ...        Technology     high poverty  Grades PreK-2   \n",
       "3     ...             Books  highest poverty     Grades 3-5   \n",
       "4     ...             Other  highest poverty  Grades PreK-2   \n",
       "\n",
       "  fulfillment_labor_materials total_price_excluding_optional_support  \\\n",
       "0                        30.0                                 555.81   \n",
       "1                        30.0                                 296.47   \n",
       "2                        30.0                                 430.89   \n",
       "3                        30.0                                 576.07   \n",
       "4                        30.0                                 408.40   \n",
       "\n",
       "  total_price_including_optional_support students_reached  \\\n",
       "0                                 653.89             32.0   \n",
       "1                                 348.79             22.0   \n",
       "2                                 506.93             17.0   \n",
       "3                                 677.73             12.0   \n",
       "4                                 480.47             24.0   \n",
       "\n",
       "  eligible_double_your_impact_match eligible_almost_home_match date_posted  \n",
       "0                                 f                          f  2014-05-12  \n",
       "1                                 f                          f  2014-05-12  \n",
       "2                                 f                          f  2014-05-11  \n",
       "3                                 f                          f  2014-05-11  \n",
       "4                                 f                          f  2014-05-11  \n",
       "\n",
       "[5 rows x 35 columns]"
      ]
     },
     "execution_count": 6,
     "metadata": {},
     "output_type": "execute_result"
    }
   ],
   "source": [
    "unclean_projects.head()"
   ]
  },
  {
   "cell_type": "code",
   "execution_count": 7,
   "metadata": {},
   "outputs": [
    {
     "data": {
      "text/html": [
       "<div>\n",
       "<style>\n",
       "    .dataframe thead tr:only-child th {\n",
       "        text-align: right;\n",
       "    }\n",
       "\n",
       "    .dataframe thead th {\n",
       "        text-align: left;\n",
       "    }\n",
       "\n",
       "    .dataframe tbody tr th {\n",
       "        vertical-align: top;\n",
       "    }\n",
       "</style>\n",
       "<table border=\"1\" class=\"dataframe\">\n",
       "  <thead>\n",
       "    <tr style=\"text-align: right;\">\n",
       "      <th></th>\n",
       "      <th>projectid</th>\n",
       "      <th>teacher_acctid</th>\n",
       "      <th>schoolid</th>\n",
       "      <th>school_ncesid</th>\n",
       "      <th>school_latitude</th>\n",
       "      <th>school_longitude</th>\n",
       "      <th>school_city</th>\n",
       "      <th>school_state</th>\n",
       "      <th>school_zip</th>\n",
       "      <th>school_metro</th>\n",
       "      <th>...</th>\n",
       "      <th>resource_type</th>\n",
       "      <th>poverty_level</th>\n",
       "      <th>grade_level</th>\n",
       "      <th>fulfillment_labor_materials</th>\n",
       "      <th>total_price_excluding_optional_support</th>\n",
       "      <th>total_price_including_optional_support</th>\n",
       "      <th>students_reached</th>\n",
       "      <th>eligible_double_your_impact_match</th>\n",
       "      <th>eligible_almost_home_match</th>\n",
       "      <th>date_posted</th>\n",
       "    </tr>\n",
       "  </thead>\n",
       "  <tbody>\n",
       "    <tr>\n",
       "      <th>0</th>\n",
       "      <td>316ed8fb3b81402ff6ac8f721bb31192</td>\n",
       "      <td>42d43fa6f37314365d08692e08680973</td>\n",
       "      <td>c0e6ce89b244764085691a1b8e28cb81</td>\n",
       "      <td>6.362701e+10</td>\n",
       "      <td>36.576340</td>\n",
       "      <td>-119.608713</td>\n",
       "      <td>Selma</td>\n",
       "      <td>CA</td>\n",
       "      <td>93662.0</td>\n",
       "      <td>NaN</td>\n",
       "      <td>...</td>\n",
       "      <td>Books</td>\n",
       "      <td>highest poverty</td>\n",
       "      <td>Grades 6-8</td>\n",
       "      <td>30.0</td>\n",
       "      <td>555.81</td>\n",
       "      <td>653.89</td>\n",
       "      <td>32.0</td>\n",
       "      <td>f</td>\n",
       "      <td>f</td>\n",
       "      <td>2014-05-12</td>\n",
       "    </tr>\n",
       "    <tr>\n",
       "      <th>1</th>\n",
       "      <td>90de744e368a7e4883223ca49318ae30</td>\n",
       "      <td>864eb466462bf704bf7a16a585ef296a</td>\n",
       "      <td>d711e47810900c96f26a5d0be30c446d</td>\n",
       "      <td>4.837020e+11</td>\n",
       "      <td>32.911179</td>\n",
       "      <td>-96.723640</td>\n",
       "      <td>Dallas</td>\n",
       "      <td>TX</td>\n",
       "      <td>75243.0</td>\n",
       "      <td>urban</td>\n",
       "      <td>...</td>\n",
       "      <td>Books</td>\n",
       "      <td>highest poverty</td>\n",
       "      <td>Grades PreK-2</td>\n",
       "      <td>30.0</td>\n",
       "      <td>296.47</td>\n",
       "      <td>348.79</td>\n",
       "      <td>22.0</td>\n",
       "      <td>f</td>\n",
       "      <td>f</td>\n",
       "      <td>2014-05-12</td>\n",
       "    </tr>\n",
       "    <tr>\n",
       "      <th>2</th>\n",
       "      <td>32943bb1063267de6ed19fc0ceb4b9a7</td>\n",
       "      <td>37f85135259ece793213aca9d8765542</td>\n",
       "      <td>665c3613013ba0a66e3a2a26b89f1b68</td>\n",
       "      <td>4.103270e+11</td>\n",
       "      <td>45.166039</td>\n",
       "      <td>-122.414576</td>\n",
       "      <td>Colton</td>\n",
       "      <td>OR</td>\n",
       "      <td>97017.0</td>\n",
       "      <td>rural</td>\n",
       "      <td>...</td>\n",
       "      <td>Technology</td>\n",
       "      <td>high poverty</td>\n",
       "      <td>Grades PreK-2</td>\n",
       "      <td>30.0</td>\n",
       "      <td>430.89</td>\n",
       "      <td>506.93</td>\n",
       "      <td>17.0</td>\n",
       "      <td>f</td>\n",
       "      <td>f</td>\n",
       "      <td>2014-05-11</td>\n",
       "    </tr>\n",
       "    <tr>\n",
       "      <th>3</th>\n",
       "      <td>bb18f409abda2f264d5acda8cab577a9</td>\n",
       "      <td>2133fc46f951f1e7d60645b0f9e48a6c</td>\n",
       "      <td>4f12c3fa0c1cce823c7ba1df57e90ccb</td>\n",
       "      <td>3.600153e+11</td>\n",
       "      <td>40.641727</td>\n",
       "      <td>-73.965655</td>\n",
       "      <td>Brooklyn</td>\n",
       "      <td>NY</td>\n",
       "      <td>11226.0</td>\n",
       "      <td>urban</td>\n",
       "      <td>...</td>\n",
       "      <td>Books</td>\n",
       "      <td>highest poverty</td>\n",
       "      <td>Grades 3-5</td>\n",
       "      <td>30.0</td>\n",
       "      <td>576.07</td>\n",
       "      <td>677.73</td>\n",
       "      <td>12.0</td>\n",
       "      <td>f</td>\n",
       "      <td>f</td>\n",
       "      <td>2014-05-11</td>\n",
       "    </tr>\n",
       "    <tr>\n",
       "      <th>4</th>\n",
       "      <td>24761b686e18e5eace634607acbcc19f</td>\n",
       "      <td>867ff478a63f5457eaf41049536c47cd</td>\n",
       "      <td>10179fd362d7b8cf0e89baa1ca3025bb</td>\n",
       "      <td>6.227100e+10</td>\n",
       "      <td>34.043939</td>\n",
       "      <td>-118.288371</td>\n",
       "      <td>Los Angeles</td>\n",
       "      <td>CA</td>\n",
       "      <td>90006.0</td>\n",
       "      <td>urban</td>\n",
       "      <td>...</td>\n",
       "      <td>Other</td>\n",
       "      <td>highest poverty</td>\n",
       "      <td>Grades PreK-2</td>\n",
       "      <td>30.0</td>\n",
       "      <td>408.40</td>\n",
       "      <td>480.47</td>\n",
       "      <td>24.0</td>\n",
       "      <td>f</td>\n",
       "      <td>f</td>\n",
       "      <td>2014-05-11</td>\n",
       "    </tr>\n",
       "  </tbody>\n",
       "</table>\n",
       "<p>5 rows × 35 columns</p>\n",
       "</div>"
      ],
      "text/plain": [
       "                          projectid                    teacher_acctid  \\\n",
       "0  316ed8fb3b81402ff6ac8f721bb31192  42d43fa6f37314365d08692e08680973   \n",
       "1  90de744e368a7e4883223ca49318ae30  864eb466462bf704bf7a16a585ef296a   \n",
       "2  32943bb1063267de6ed19fc0ceb4b9a7  37f85135259ece793213aca9d8765542   \n",
       "3  bb18f409abda2f264d5acda8cab577a9  2133fc46f951f1e7d60645b0f9e48a6c   \n",
       "4  24761b686e18e5eace634607acbcc19f  867ff478a63f5457eaf41049536c47cd   \n",
       "\n",
       "                           schoolid  school_ncesid  school_latitude  \\\n",
       "0  c0e6ce89b244764085691a1b8e28cb81   6.362701e+10        36.576340   \n",
       "1  d711e47810900c96f26a5d0be30c446d   4.837020e+11        32.911179   \n",
       "2  665c3613013ba0a66e3a2a26b89f1b68   4.103270e+11        45.166039   \n",
       "3  4f12c3fa0c1cce823c7ba1df57e90ccb   3.600153e+11        40.641727   \n",
       "4  10179fd362d7b8cf0e89baa1ca3025bb   6.227100e+10        34.043939   \n",
       "\n",
       "   school_longitude  school_city school_state  school_zip school_metro  \\\n",
       "0       -119.608713        Selma           CA     93662.0          NaN   \n",
       "1        -96.723640       Dallas           TX     75243.0        urban   \n",
       "2       -122.414576       Colton           OR     97017.0        rural   \n",
       "3        -73.965655     Brooklyn           NY     11226.0        urban   \n",
       "4       -118.288371  Los Angeles           CA     90006.0        urban   \n",
       "\n",
       "      ...     resource_type    poverty_level    grade_level  \\\n",
       "0     ...             Books  highest poverty     Grades 6-8   \n",
       "1     ...             Books  highest poverty  Grades PreK-2   \n",
       "2     ...        Technology     high poverty  Grades PreK-2   \n",
       "3     ...             Books  highest poverty     Grades 3-5   \n",
       "4     ...             Other  highest poverty  Grades PreK-2   \n",
       "\n",
       "  fulfillment_labor_materials total_price_excluding_optional_support  \\\n",
       "0                        30.0                                 555.81   \n",
       "1                        30.0                                 296.47   \n",
       "2                        30.0                                 430.89   \n",
       "3                        30.0                                 576.07   \n",
       "4                        30.0                                 408.40   \n",
       "\n",
       "  total_price_including_optional_support students_reached  \\\n",
       "0                                 653.89             32.0   \n",
       "1                                 348.79             22.0   \n",
       "2                                 506.93             17.0   \n",
       "3                                 677.73             12.0   \n",
       "4                                 480.47             24.0   \n",
       "\n",
       "  eligible_double_your_impact_match eligible_almost_home_match date_posted  \n",
       "0                                 f                          f  2014-05-12  \n",
       "1                                 f                          f  2014-05-12  \n",
       "2                                 f                          f  2014-05-11  \n",
       "3                                 f                          f  2014-05-11  \n",
       "4                                 f                          f  2014-05-11  \n",
       "\n",
       "[5 rows x 35 columns]"
      ]
     },
     "execution_count": 7,
     "metadata": {},
     "output_type": "execute_result"
    }
   ],
   "source": [
    "unclean_projects['date_posted'] = pd.to_datetime(unclean_projects['date_posted'])\n",
    "unclean_projects.head()"
   ]
  },
  {
   "cell_type": "markdown",
   "metadata": {},
   "source": [
    "Make sure that our date variables are in date time format so we can cut this by date."
   ]
  },
  {
   "cell_type": "code",
   "execution_count": 8,
   "metadata": {
    "collapsed": true
   },
   "outputs": [],
   "source": [
    "new_unclean_projects = (unclean_projects['date_posted'] > '2011-01-01') & (unclean_projects['date_posted'] <= '2013-12-31')"
   ]
  },
  {
   "cell_type": "code",
   "execution_count": 9,
   "metadata": {
    "collapsed": true
   },
   "outputs": [],
   "source": [
    "unclean_projects = unclean_projects.loc[new_unclean_projects]"
   ]
  },
  {
   "cell_type": "code",
   "execution_count": 10,
   "metadata": {},
   "outputs": [
    {
     "data": {
      "text/html": [
       "<div>\n",
       "<style>\n",
       "    .dataframe thead tr:only-child th {\n",
       "        text-align: right;\n",
       "    }\n",
       "\n",
       "    .dataframe thead th {\n",
       "        text-align: left;\n",
       "    }\n",
       "\n",
       "    .dataframe tbody tr th {\n",
       "        vertical-align: top;\n",
       "    }\n",
       "</style>\n",
       "<table border=\"1\" class=\"dataframe\">\n",
       "  <thead>\n",
       "    <tr style=\"text-align: right;\">\n",
       "      <th></th>\n",
       "      <th>projectid</th>\n",
       "      <th>teacher_acctid</th>\n",
       "      <th>schoolid</th>\n",
       "      <th>school_ncesid</th>\n",
       "      <th>school_latitude</th>\n",
       "      <th>school_longitude</th>\n",
       "      <th>school_city</th>\n",
       "      <th>school_state</th>\n",
       "      <th>school_zip</th>\n",
       "      <th>school_metro</th>\n",
       "      <th>...</th>\n",
       "      <th>resource_type</th>\n",
       "      <th>poverty_level</th>\n",
       "      <th>grade_level</th>\n",
       "      <th>fulfillment_labor_materials</th>\n",
       "      <th>total_price_excluding_optional_support</th>\n",
       "      <th>total_price_including_optional_support</th>\n",
       "      <th>students_reached</th>\n",
       "      <th>eligible_double_your_impact_match</th>\n",
       "      <th>eligible_almost_home_match</th>\n",
       "      <th>date_posted</th>\n",
       "    </tr>\n",
       "  </thead>\n",
       "  <tbody>\n",
       "    <tr>\n",
       "      <th>44772</th>\n",
       "      <td>62526d85d2a1818432d03d600969e99c</td>\n",
       "      <td>ebc7c90b6c92a069432e0714b8d93dfd</td>\n",
       "      <td>5aca9711ff0e4b37db48701f46f73036</td>\n",
       "      <td>1.713710e+11</td>\n",
       "      <td>41.972419</td>\n",
       "      <td>-88.174597</td>\n",
       "      <td>Bartlett</td>\n",
       "      <td>IL</td>\n",
       "      <td>60103.0</td>\n",
       "      <td>suburban</td>\n",
       "      <td>...</td>\n",
       "      <td>Other</td>\n",
       "      <td>moderate poverty</td>\n",
       "      <td>Grades 3-5</td>\n",
       "      <td>30.0</td>\n",
       "      <td>444.36</td>\n",
       "      <td>522.78</td>\n",
       "      <td>7.0</td>\n",
       "      <td>f</td>\n",
       "      <td>f</td>\n",
       "      <td>2013-12-31</td>\n",
       "    </tr>\n",
       "    <tr>\n",
       "      <th>44773</th>\n",
       "      <td>33d59ac771b80222ad63ef0f4ac47ade</td>\n",
       "      <td>de83b4c1f6428a15032c207c1d5e572a</td>\n",
       "      <td>d91a805b213bf74ae77b94e0de2b73ad</td>\n",
       "      <td>1.601530e+11</td>\n",
       "      <td>43.501154</td>\n",
       "      <td>-112.056780</td>\n",
       "      <td>Idaho Falls</td>\n",
       "      <td>ID</td>\n",
       "      <td>83402.0</td>\n",
       "      <td>urban</td>\n",
       "      <td>...</td>\n",
       "      <td>Supplies</td>\n",
       "      <td>high poverty</td>\n",
       "      <td>Grades 3-5</td>\n",
       "      <td>30.0</td>\n",
       "      <td>233.24</td>\n",
       "      <td>274.40</td>\n",
       "      <td>30.0</td>\n",
       "      <td>f</td>\n",
       "      <td>f</td>\n",
       "      <td>2013-12-31</td>\n",
       "    </tr>\n",
       "    <tr>\n",
       "      <th>44774</th>\n",
       "      <td>1a3aaeffc56dd2a421e37d8298024c0a</td>\n",
       "      <td>f4c9ed095b85458dcf858e25f203af00</td>\n",
       "      <td>9310d3eb447a4e46bc5fc31ed007ceac</td>\n",
       "      <td>3.302610e+11</td>\n",
       "      <td>42.888244</td>\n",
       "      <td>-71.320224</td>\n",
       "      <td>Derry</td>\n",
       "      <td>NH</td>\n",
       "      <td>3038.0</td>\n",
       "      <td>suburban</td>\n",
       "      <td>...</td>\n",
       "      <td>Technology</td>\n",
       "      <td>moderate poverty</td>\n",
       "      <td>Grades 6-8</td>\n",
       "      <td>30.0</td>\n",
       "      <td>285.09</td>\n",
       "      <td>335.40</td>\n",
       "      <td>230.0</td>\n",
       "      <td>f</td>\n",
       "      <td>f</td>\n",
       "      <td>2013-12-31</td>\n",
       "    </tr>\n",
       "    <tr>\n",
       "      <th>44775</th>\n",
       "      <td>33aa19ee4da4c5adf47d0dfb84fab5ef</td>\n",
       "      <td>17768031eb40de8d4497dbb54df48742</td>\n",
       "      <td>9ac70da58322783f82152eecc140a812</td>\n",
       "      <td>5.103240e+11</td>\n",
       "      <td>37.476158</td>\n",
       "      <td>-77.488397</td>\n",
       "      <td>Richmond</td>\n",
       "      <td>VA</td>\n",
       "      <td>23224.0</td>\n",
       "      <td>urban</td>\n",
       "      <td>...</td>\n",
       "      <td>Other</td>\n",
       "      <td>highest poverty</td>\n",
       "      <td>Grades PreK-2</td>\n",
       "      <td>30.0</td>\n",
       "      <td>232.94</td>\n",
       "      <td>274.05</td>\n",
       "      <td>18.0</td>\n",
       "      <td>f</td>\n",
       "      <td>f</td>\n",
       "      <td>2013-12-31</td>\n",
       "    </tr>\n",
       "    <tr>\n",
       "      <th>44776</th>\n",
       "      <td>e31c0ea8b68f404699dfb0d39e9bc99b</td>\n",
       "      <td>0f1bc5b4700fd33383be104442660178</td>\n",
       "      <td>cb9f688cf59e3ee22a087d616ca8f5d7</td>\n",
       "      <td>1.709930e+11</td>\n",
       "      <td>41.952851</td>\n",
       "      <td>-87.650233</td>\n",
       "      <td>Chicago</td>\n",
       "      <td>IL</td>\n",
       "      <td>60613.0</td>\n",
       "      <td>urban</td>\n",
       "      <td>...</td>\n",
       "      <td>Supplies</td>\n",
       "      <td>highest poverty</td>\n",
       "      <td>Grades 6-8</td>\n",
       "      <td>30.0</td>\n",
       "      <td>513.41</td>\n",
       "      <td>604.01</td>\n",
       "      <td>70.0</td>\n",
       "      <td>t</td>\n",
       "      <td>f</td>\n",
       "      <td>2013-12-31</td>\n",
       "    </tr>\n",
       "  </tbody>\n",
       "</table>\n",
       "<p>5 rows × 35 columns</p>\n",
       "</div>"
      ],
      "text/plain": [
       "                              projectid                    teacher_acctid  \\\n",
       "44772  62526d85d2a1818432d03d600969e99c  ebc7c90b6c92a069432e0714b8d93dfd   \n",
       "44773  33d59ac771b80222ad63ef0f4ac47ade  de83b4c1f6428a15032c207c1d5e572a   \n",
       "44774  1a3aaeffc56dd2a421e37d8298024c0a  f4c9ed095b85458dcf858e25f203af00   \n",
       "44775  33aa19ee4da4c5adf47d0dfb84fab5ef  17768031eb40de8d4497dbb54df48742   \n",
       "44776  e31c0ea8b68f404699dfb0d39e9bc99b  0f1bc5b4700fd33383be104442660178   \n",
       "\n",
       "                               schoolid  school_ncesid  school_latitude  \\\n",
       "44772  5aca9711ff0e4b37db48701f46f73036   1.713710e+11        41.972419   \n",
       "44773  d91a805b213bf74ae77b94e0de2b73ad   1.601530e+11        43.501154   \n",
       "44774  9310d3eb447a4e46bc5fc31ed007ceac   3.302610e+11        42.888244   \n",
       "44775  9ac70da58322783f82152eecc140a812   5.103240e+11        37.476158   \n",
       "44776  cb9f688cf59e3ee22a087d616ca8f5d7   1.709930e+11        41.952851   \n",
       "\n",
       "       school_longitude  school_city school_state  school_zip school_metro  \\\n",
       "44772        -88.174597     Bartlett           IL     60103.0     suburban   \n",
       "44773       -112.056780  Idaho Falls           ID     83402.0        urban   \n",
       "44774        -71.320224        Derry           NH      3038.0     suburban   \n",
       "44775        -77.488397     Richmond           VA     23224.0        urban   \n",
       "44776        -87.650233      Chicago           IL     60613.0        urban   \n",
       "\n",
       "          ...     resource_type     poverty_level    grade_level  \\\n",
       "44772     ...             Other  moderate poverty     Grades 3-5   \n",
       "44773     ...          Supplies      high poverty     Grades 3-5   \n",
       "44774     ...        Technology  moderate poverty     Grades 6-8   \n",
       "44775     ...             Other   highest poverty  Grades PreK-2   \n",
       "44776     ...          Supplies   highest poverty     Grades 6-8   \n",
       "\n",
       "      fulfillment_labor_materials total_price_excluding_optional_support  \\\n",
       "44772                        30.0                                 444.36   \n",
       "44773                        30.0                                 233.24   \n",
       "44774                        30.0                                 285.09   \n",
       "44775                        30.0                                 232.94   \n",
       "44776                        30.0                                 513.41   \n",
       "\n",
       "      total_price_including_optional_support students_reached  \\\n",
       "44772                                 522.78              7.0   \n",
       "44773                                 274.40             30.0   \n",
       "44774                                 335.40            230.0   \n",
       "44775                                 274.05             18.0   \n",
       "44776                                 604.01             70.0   \n",
       "\n",
       "      eligible_double_your_impact_match eligible_almost_home_match date_posted  \n",
       "44772                                 f                          f  2013-12-31  \n",
       "44773                                 f                          f  2013-12-31  \n",
       "44774                                 f                          f  2013-12-31  \n",
       "44775                                 f                          f  2013-12-31  \n",
       "44776                                 t                          f  2013-12-31  \n",
       "\n",
       "[5 rows x 35 columns]"
      ]
     },
     "execution_count": 10,
     "metadata": {},
     "output_type": "execute_result"
    }
   ],
   "source": [
    "unclean_projects.head()"
   ]
  },
  {
   "cell_type": "markdown",
   "metadata": {},
   "source": [
    "We've identified the projects that occur within the specified dates, now we need to join them with outcomes on projectid. "
   ]
  },
  {
   "cell_type": "code",
   "execution_count": 11,
   "metadata": {},
   "outputs": [
    {
     "data": {
      "text/html": [
       "<div>\n",
       "<style>\n",
       "    .dataframe thead tr:only-child th {\n",
       "        text-align: right;\n",
       "    }\n",
       "\n",
       "    .dataframe thead th {\n",
       "        text-align: left;\n",
       "    }\n",
       "\n",
       "    .dataframe tbody tr th {\n",
       "        vertical-align: top;\n",
       "    }\n",
       "</style>\n",
       "<table border=\"1\" class=\"dataframe\">\n",
       "  <thead>\n",
       "    <tr style=\"text-align: right;\">\n",
       "      <th></th>\n",
       "      <th>projectid</th>\n",
       "      <th>teacher_acctid</th>\n",
       "      <th>schoolid</th>\n",
       "      <th>school_ncesid</th>\n",
       "      <th>school_latitude</th>\n",
       "      <th>school_longitude</th>\n",
       "      <th>school_city</th>\n",
       "      <th>school_state</th>\n",
       "      <th>school_zip</th>\n",
       "      <th>school_metro</th>\n",
       "      <th>...</th>\n",
       "      <th>poverty_level</th>\n",
       "      <th>grade_level</th>\n",
       "      <th>fulfillment_labor_materials</th>\n",
       "      <th>total_price_excluding_optional_support</th>\n",
       "      <th>total_price_including_optional_support</th>\n",
       "      <th>students_reached</th>\n",
       "      <th>eligible_double_your_impact_match</th>\n",
       "      <th>eligible_almost_home_match</th>\n",
       "      <th>date_posted</th>\n",
       "      <th>fully_funded</th>\n",
       "    </tr>\n",
       "  </thead>\n",
       "  <tbody>\n",
       "    <tr>\n",
       "      <th>0</th>\n",
       "      <td>62526d85d2a1818432d03d600969e99c</td>\n",
       "      <td>ebc7c90b6c92a069432e0714b8d93dfd</td>\n",
       "      <td>5aca9711ff0e4b37db48701f46f73036</td>\n",
       "      <td>1.713710e+11</td>\n",
       "      <td>41.972419</td>\n",
       "      <td>-88.174597</td>\n",
       "      <td>Bartlett</td>\n",
       "      <td>IL</td>\n",
       "      <td>60103.0</td>\n",
       "      <td>suburban</td>\n",
       "      <td>...</td>\n",
       "      <td>moderate poverty</td>\n",
       "      <td>Grades 3-5</td>\n",
       "      <td>30.0</td>\n",
       "      <td>444.36</td>\n",
       "      <td>522.78</td>\n",
       "      <td>7.0</td>\n",
       "      <td>f</td>\n",
       "      <td>f</td>\n",
       "      <td>2013-12-31</td>\n",
       "      <td>t</td>\n",
       "    </tr>\n",
       "    <tr>\n",
       "      <th>1</th>\n",
       "      <td>33d59ac771b80222ad63ef0f4ac47ade</td>\n",
       "      <td>de83b4c1f6428a15032c207c1d5e572a</td>\n",
       "      <td>d91a805b213bf74ae77b94e0de2b73ad</td>\n",
       "      <td>1.601530e+11</td>\n",
       "      <td>43.501154</td>\n",
       "      <td>-112.056780</td>\n",
       "      <td>Idaho Falls</td>\n",
       "      <td>ID</td>\n",
       "      <td>83402.0</td>\n",
       "      <td>urban</td>\n",
       "      <td>...</td>\n",
       "      <td>high poverty</td>\n",
       "      <td>Grades 3-5</td>\n",
       "      <td>30.0</td>\n",
       "      <td>233.24</td>\n",
       "      <td>274.40</td>\n",
       "      <td>30.0</td>\n",
       "      <td>f</td>\n",
       "      <td>f</td>\n",
       "      <td>2013-12-31</td>\n",
       "      <td>f</td>\n",
       "    </tr>\n",
       "    <tr>\n",
       "      <th>2</th>\n",
       "      <td>1a3aaeffc56dd2a421e37d8298024c0a</td>\n",
       "      <td>f4c9ed095b85458dcf858e25f203af00</td>\n",
       "      <td>9310d3eb447a4e46bc5fc31ed007ceac</td>\n",
       "      <td>3.302610e+11</td>\n",
       "      <td>42.888244</td>\n",
       "      <td>-71.320224</td>\n",
       "      <td>Derry</td>\n",
       "      <td>NH</td>\n",
       "      <td>3038.0</td>\n",
       "      <td>suburban</td>\n",
       "      <td>...</td>\n",
       "      <td>moderate poverty</td>\n",
       "      <td>Grades 6-8</td>\n",
       "      <td>30.0</td>\n",
       "      <td>285.09</td>\n",
       "      <td>335.40</td>\n",
       "      <td>230.0</td>\n",
       "      <td>f</td>\n",
       "      <td>f</td>\n",
       "      <td>2013-12-31</td>\n",
       "      <td>f</td>\n",
       "    </tr>\n",
       "    <tr>\n",
       "      <th>3</th>\n",
       "      <td>33aa19ee4da4c5adf47d0dfb84fab5ef</td>\n",
       "      <td>17768031eb40de8d4497dbb54df48742</td>\n",
       "      <td>9ac70da58322783f82152eecc140a812</td>\n",
       "      <td>5.103240e+11</td>\n",
       "      <td>37.476158</td>\n",
       "      <td>-77.488397</td>\n",
       "      <td>Richmond</td>\n",
       "      <td>VA</td>\n",
       "      <td>23224.0</td>\n",
       "      <td>urban</td>\n",
       "      <td>...</td>\n",
       "      <td>highest poverty</td>\n",
       "      <td>Grades PreK-2</td>\n",
       "      <td>30.0</td>\n",
       "      <td>232.94</td>\n",
       "      <td>274.05</td>\n",
       "      <td>18.0</td>\n",
       "      <td>f</td>\n",
       "      <td>f</td>\n",
       "      <td>2013-12-31</td>\n",
       "      <td>f</td>\n",
       "    </tr>\n",
       "    <tr>\n",
       "      <th>4</th>\n",
       "      <td>e31c0ea8b68f404699dfb0d39e9bc99b</td>\n",
       "      <td>0f1bc5b4700fd33383be104442660178</td>\n",
       "      <td>cb9f688cf59e3ee22a087d616ca8f5d7</td>\n",
       "      <td>1.709930e+11</td>\n",
       "      <td>41.952851</td>\n",
       "      <td>-87.650233</td>\n",
       "      <td>Chicago</td>\n",
       "      <td>IL</td>\n",
       "      <td>60613.0</td>\n",
       "      <td>urban</td>\n",
       "      <td>...</td>\n",
       "      <td>highest poverty</td>\n",
       "      <td>Grades 6-8</td>\n",
       "      <td>30.0</td>\n",
       "      <td>513.41</td>\n",
       "      <td>604.01</td>\n",
       "      <td>70.0</td>\n",
       "      <td>t</td>\n",
       "      <td>f</td>\n",
       "      <td>2013-12-31</td>\n",
       "      <td>t</td>\n",
       "    </tr>\n",
       "  </tbody>\n",
       "</table>\n",
       "<p>5 rows × 36 columns</p>\n",
       "</div>"
      ],
      "text/plain": [
       "                          projectid                    teacher_acctid  \\\n",
       "0  62526d85d2a1818432d03d600969e99c  ebc7c90b6c92a069432e0714b8d93dfd   \n",
       "1  33d59ac771b80222ad63ef0f4ac47ade  de83b4c1f6428a15032c207c1d5e572a   \n",
       "2  1a3aaeffc56dd2a421e37d8298024c0a  f4c9ed095b85458dcf858e25f203af00   \n",
       "3  33aa19ee4da4c5adf47d0dfb84fab5ef  17768031eb40de8d4497dbb54df48742   \n",
       "4  e31c0ea8b68f404699dfb0d39e9bc99b  0f1bc5b4700fd33383be104442660178   \n",
       "\n",
       "                           schoolid  school_ncesid  school_latitude  \\\n",
       "0  5aca9711ff0e4b37db48701f46f73036   1.713710e+11        41.972419   \n",
       "1  d91a805b213bf74ae77b94e0de2b73ad   1.601530e+11        43.501154   \n",
       "2  9310d3eb447a4e46bc5fc31ed007ceac   3.302610e+11        42.888244   \n",
       "3  9ac70da58322783f82152eecc140a812   5.103240e+11        37.476158   \n",
       "4  cb9f688cf59e3ee22a087d616ca8f5d7   1.709930e+11        41.952851   \n",
       "\n",
       "   school_longitude  school_city school_state  school_zip school_metro  \\\n",
       "0        -88.174597     Bartlett           IL     60103.0     suburban   \n",
       "1       -112.056780  Idaho Falls           ID     83402.0        urban   \n",
       "2        -71.320224        Derry           NH      3038.0     suburban   \n",
       "3        -77.488397     Richmond           VA     23224.0        urban   \n",
       "4        -87.650233      Chicago           IL     60613.0        urban   \n",
       "\n",
       "      ...          poverty_level    grade_level fulfillment_labor_materials  \\\n",
       "0     ...       moderate poverty     Grades 3-5                        30.0   \n",
       "1     ...           high poverty     Grades 3-5                        30.0   \n",
       "2     ...       moderate poverty     Grades 6-8                        30.0   \n",
       "3     ...        highest poverty  Grades PreK-2                        30.0   \n",
       "4     ...        highest poverty     Grades 6-8                        30.0   \n",
       "\n",
       "  total_price_excluding_optional_support  \\\n",
       "0                                 444.36   \n",
       "1                                 233.24   \n",
       "2                                 285.09   \n",
       "3                                 232.94   \n",
       "4                                 513.41   \n",
       "\n",
       "  total_price_including_optional_support students_reached  \\\n",
       "0                                 522.78              7.0   \n",
       "1                                 274.40             30.0   \n",
       "2                                 335.40            230.0   \n",
       "3                                 274.05             18.0   \n",
       "4                                 604.01             70.0   \n",
       "\n",
       "  eligible_double_your_impact_match eligible_almost_home_match date_posted  \\\n",
       "0                                 f                          f  2013-12-31   \n",
       "1                                 f                          f  2013-12-31   \n",
       "2                                 f                          f  2013-12-31   \n",
       "3                                 f                          f  2013-12-31   \n",
       "4                                 t                          f  2013-12-31   \n",
       "\n",
       "  fully_funded  \n",
       "0            t  \n",
       "1            f  \n",
       "2            f  \n",
       "3            f  \n",
       "4            t  \n",
       "\n",
       "[5 rows x 36 columns]"
      ]
     },
     "execution_count": 11,
     "metadata": {},
     "output_type": "execute_result"
    }
   ],
   "source": [
    "merged = pd.merge(unclean_projects, unclean_outcomes, on = 'projectid')\n",
    "merged.head()"
   ]
  },
  {
   "cell_type": "code",
   "execution_count": 12,
   "metadata": {},
   "outputs": [
    {
     "name": "stdout",
     "output_type": "stream",
     "text": [
      "\n",
      "Summary stats for projectid\n",
      "count                               352790\n",
      "unique                              352790\n",
      "top       aa66e41e70e883fb351ced048ef878b5\n",
      "freq                                     1\n",
      "Name: projectid, dtype: object\n",
      "\n",
      "\n",
      "Summary stats for teacher_acctid\n",
      "count                               352790\n",
      "unique                              157056\n",
      "top       214acf23d183dfa2f1dc16e7b3658320\n",
      "freq                                   174\n",
      "Name: teacher_acctid, dtype: object\n",
      "\n",
      "\n",
      "Summary stats for schoolid\n",
      "count                               352790\n",
      "unique                               44808\n",
      "top       9943fdb43ab5f2b53f27e961caf9e90a\n",
      "freq                                   476\n",
      "Name: schoolid, dtype: object\n",
      "\n",
      "\n",
      "Summary stats for school_ncesid\n",
      "count    3.279590e+05\n",
      "mean     2.502985e+11\n",
      "std      1.648287e+11\n",
      "min      1.000050e+10\n",
      "25%      6.372001e+10\n",
      "50%      2.400090e+11\n",
      "75%      3.904440e+11\n",
      "max      6.100008e+11\n",
      "Name: school_ncesid, dtype: float64\n",
      "\n",
      "\n",
      "Summary stats for school_latitude\n",
      "count    352790.000000\n",
      "mean         36.867577\n",
      "std           4.927728\n",
      "min          18.249140\n",
      "25%          33.916283\n",
      "50%          36.669312\n",
      "75%          40.680161\n",
      "max          67.258157\n",
      "Name: school_latitude, dtype: float64\n",
      "\n",
      "\n",
      "Summary stats for school_longitude\n",
      "count    352790.000000\n",
      "mean        -95.402689\n",
      "std          18.117992\n",
      "min        -171.690554\n",
      "25%        -117.246977\n",
      "50%         -89.890213\n",
      "75%         -80.762459\n",
      "max         -66.628036\n",
      "Name: school_longitude, dtype: float64\n",
      "\n",
      "\n",
      "Summary stats for school_city\n",
      "count          352790\n",
      "unique           7719\n",
      "top       Los Angeles\n",
      "freq            15438\n",
      "Name: school_city, dtype: object\n",
      "\n",
      "\n",
      "Summary stats for school_state\n",
      "count     352790\n",
      "unique        51\n",
      "top           CA\n",
      "freq       77845\n",
      "Name: school_state, dtype: object\n",
      "\n",
      "\n",
      "Summary stats for school_zip\n",
      "count    352790.000000\n",
      "mean      56309.888231\n",
      "std       31041.466741\n",
      "min         410.000000\n",
      "25%       29403.000000\n",
      "50%       60613.000000\n",
      "75%       90007.000000\n",
      "max       99926.000000\n",
      "Name: school_zip, dtype: float64\n",
      "\n",
      "\n",
      "Summary stats for school_metro\n",
      "count     309819\n",
      "unique         3\n",
      "top        urban\n",
      "freq      178139\n",
      "Name: school_metro, dtype: object\n",
      "\n",
      "\n",
      "Summary stats for school_district\n",
      "count                        352361\n",
      "unique                         7886\n",
      "top       Los Angeles Unif Sch Dist\n",
      "freq                          29297\n",
      "Name: school_district, dtype: object\n",
      "\n",
      "\n",
      "Summary stats for school_county\n",
      "count          352790\n",
      "unique           1618\n",
      "top       Los Angeles\n",
      "freq            35254\n",
      "Name: school_county, dtype: object\n",
      "\n",
      "\n",
      "Summary stats for school_charter\n",
      "count     352790\n",
      "unique         2\n",
      "top            f\n",
      "freq      319467\n",
      "Name: school_charter, dtype: object\n",
      "\n",
      "\n",
      "Summary stats for school_magnet\n",
      "count     352790\n",
      "unique         2\n",
      "top            f\n",
      "freq      322780\n",
      "Name: school_magnet, dtype: object\n",
      "\n",
      "\n",
      "Summary stats for school_year_round\n",
      "count     352790\n",
      "unique         2\n",
      "top            f\n",
      "freq      335476\n",
      "Name: school_year_round, dtype: object\n",
      "\n",
      "\n",
      "Summary stats for school_nlns\n",
      "count     352790\n",
      "unique         2\n",
      "top            f\n",
      "freq      348635\n",
      "Name: school_nlns, dtype: object\n",
      "\n",
      "\n",
      "Summary stats for school_kipp\n",
      "count     352790\n",
      "unique         2\n",
      "top            f\n",
      "freq      350450\n",
      "Name: school_kipp, dtype: object\n",
      "\n",
      "\n",
      "Summary stats for school_charter_ready_promise\n",
      "count     352790\n",
      "unique         2\n",
      "top            f\n",
      "freq      350631\n",
      "Name: school_charter_ready_promise, dtype: object\n",
      "\n",
      "\n",
      "Summary stats for teacher_prefix\n",
      "count     352790\n",
      "unique         4\n",
      "top         Mrs.\n",
      "freq      170845\n",
      "Name: teacher_prefix, dtype: object\n",
      "\n",
      "\n",
      "Summary stats for teacher_teach_for_america\n",
      "count     352790\n",
      "unique         2\n",
      "top            f\n",
      "freq      335478\n",
      "Name: teacher_teach_for_america, dtype: object\n",
      "\n",
      "\n",
      "Summary stats for teacher_ny_teaching_fellow\n",
      "count     352790\n",
      "unique         2\n",
      "top            f\n",
      "freq      349189\n",
      "Name: teacher_ny_teaching_fellow, dtype: object\n",
      "\n",
      "\n",
      "Summary stats for primary_focus_subject\n",
      "count       352755\n",
      "unique          27\n",
      "top       Literacy\n",
      "freq        108609\n",
      "Name: primary_focus_subject, dtype: object\n",
      "\n",
      "\n",
      "Summary stats for primary_focus_area\n",
      "count                  352755\n",
      "unique                      7\n",
      "top       Literacy & Language\n",
      "freq                   161815\n",
      "Name: primary_focus_area, dtype: object\n",
      "\n",
      "\n",
      "Summary stats for secondary_focus_subject\n",
      "count                   236819\n",
      "unique                      27\n",
      "top       Literature & Writing\n",
      "freq                     35166\n",
      "Name: secondary_focus_subject, dtype: object\n",
      "\n",
      "\n",
      "Summary stats for secondary_focus_area\n",
      "count                  236819\n",
      "unique                      7\n",
      "top       Literacy & Language\n",
      "freq                    85383\n",
      "Name: secondary_focus_area, dtype: object\n",
      "\n",
      "\n",
      "Summary stats for resource_type\n",
      "count         352748\n",
      "unique             6\n",
      "top       Technology\n",
      "freq          124386\n",
      "Name: resource_type, dtype: object\n",
      "\n",
      "\n",
      "Summary stats for poverty_level\n",
      "count              352790\n",
      "unique                  4\n",
      "top       highest poverty\n",
      "freq               193281\n",
      "Name: poverty_level, dtype: object\n",
      "\n",
      "\n",
      "Summary stats for grade_level\n",
      "count            352784\n",
      "unique                4\n",
      "top       Grades PreK-2\n",
      "freq             134843\n",
      "Name: grade_level, dtype: object\n",
      "\n",
      "\n",
      "Summary stats for fulfillment_labor_materials\n",
      "count    352790.000000\n",
      "mean         32.217466\n",
      "std           2.483987\n",
      "min          30.000000\n",
      "25%          30.000000\n",
      "50%          30.000000\n",
      "75%          35.000000\n",
      "max          35.000000\n",
      "Name: fulfillment_labor_materials, dtype: float64\n",
      "\n",
      "\n",
      "Summary stats for total_price_excluding_optional_support\n",
      "count    352790.000000\n",
      "mean        531.471837\n",
      "std         844.455281\n",
      "min          37.030000\n",
      "25%         288.750000\n",
      "50%         427.330000\n",
      "75%         606.887500\n",
      "max      139725.410000\n",
      "Name: total_price_excluding_optional_support, dtype: float64\n",
      "\n",
      "\n",
      "Summary stats for total_price_including_optional_support\n",
      "count    352790.000000\n",
      "mean        625.260982\n",
      "std         993.476801\n",
      "min          43.560000\n",
      "25%         339.710000\n",
      "50%         502.740000\n",
      "75%         713.987500\n",
      "max      164382.840000\n",
      "Name: total_price_including_optional_support, dtype: float64\n",
      "\n",
      "\n",
      "Summary stats for students_reached\n",
      "count    352689.000000\n",
      "mean         94.189011\n",
      "std         156.980313\n",
      "min           1.000000\n",
      "25%          23.000000\n",
      "50%          31.000000\n",
      "75%         100.000000\n",
      "max       12143.000000\n",
      "Name: students_reached, dtype: float64\n",
      "\n",
      "\n",
      "Summary stats for eligible_double_your_impact_match\n",
      "count     352790\n",
      "unique         2\n",
      "top            f\n",
      "freq      240902\n",
      "Name: eligible_double_your_impact_match, dtype: object\n",
      "\n",
      "\n",
      "Summary stats for eligible_almost_home_match\n",
      "count     352790\n",
      "unique         2\n",
      "top            f\n",
      "freq      337247\n",
      "Name: eligible_almost_home_match, dtype: object\n",
      "\n",
      "\n",
      "Summary stats for date_posted\n",
      "count                  352790\n",
      "unique                   1095\n",
      "top       2012-09-30 00:00:00\n",
      "freq                     1490\n",
      "first     2011-01-02 00:00:00\n",
      "last      2013-12-31 00:00:00\n",
      "Name: date_posted, dtype: object\n",
      "\n",
      "\n",
      "Summary stats for fully_funded\n",
      "count     352790\n",
      "unique         2\n",
      "top            t\n",
      "freq      247446\n",
      "Name: fully_funded, dtype: object\n",
      "\n",
      "Values with True have nulls\n",
      "projectid                                 False\n",
      "teacher_acctid                            False\n",
      "schoolid                                  False\n",
      "school_ncesid                              True\n",
      "school_latitude                           False\n",
      "school_longitude                          False\n",
      "school_city                               False\n",
      "school_state                              False\n",
      "school_zip                                False\n",
      "school_metro                               True\n",
      "school_district                            True\n",
      "school_county                             False\n",
      "school_charter                            False\n",
      "school_magnet                             False\n",
      "school_year_round                         False\n",
      "school_nlns                               False\n",
      "school_kipp                               False\n",
      "school_charter_ready_promise              False\n",
      "teacher_prefix                            False\n",
      "teacher_teach_for_america                 False\n",
      "teacher_ny_teaching_fellow                False\n",
      "primary_focus_subject                      True\n",
      "primary_focus_area                         True\n",
      "secondary_focus_subject                    True\n",
      "secondary_focus_area                       True\n",
      "resource_type                              True\n",
      "poverty_level                             False\n",
      "grade_level                                True\n",
      "fulfillment_labor_materials               False\n",
      "total_price_excluding_optional_support    False\n",
      "total_price_including_optional_support    False\n",
      "students_reached                           True\n",
      "eligible_double_your_impact_match         False\n",
      "eligible_almost_home_match                False\n",
      "date_posted                               False\n",
      "fully_funded                              False\n",
      "dtype: bool\n",
      "\n",
      "Histograms of all columns\n"
     ]
    },
    {
     "data": {
      "image/png": "[encoded data removed]",
      "text/plain": [
       "<matplotlib.figure.Figure at 0x1a31b03a20>"
      ]
     },
     "metadata": {},
     "output_type": "display_data"
    }
   ],
   "source": [
    "de.explore_data(merged)"
   ]
  },
  {
   "cell_type": "markdown",
   "metadata": {},
   "source": [
    "Before splitting my data, I'll need to fill nulls, create a whole range of dummies for variables that aren't currently integers, and do some light cleaning of the data."
   ]
  },
  {
   "cell_type": "code",
   "execution_count": 13,
   "metadata": {},
   "outputs": [
    {
     "data": {
      "text/plain": [
       "(352790, 36)"
      ]
     },
     "execution_count": 13,
     "metadata": {},
     "output_type": "execute_result"
    }
   ],
   "source": [
    "merged.shape"
   ]
  },
  {
   "cell_type": "markdown",
   "metadata": {},
   "source": [
    "First step is to clean the data of outliers. From the exploration output above, I've identified students_reached, total_price_excluding_optional_support, and total_price_including_optional_support as potentially having outliers. I will remove those now."
   ]
  },
  {
   "cell_type": "code",
   "execution_count": 14,
   "metadata": {},
   "outputs": [
    {
     "data": {
      "text/plain": [
       "(342248, 36)"
      ]
     },
     "execution_count": 14,
     "metadata": {},
     "output_type": "execute_result"
    }
   ],
   "source": [
    "merged = merged[((merged['students_reached'] - merged['students_reached'].mean()) / merged['students_reached'].std()).abs() < 3]\n",
    "merged.shape"
   ]
  },
  {
   "cell_type": "code",
   "execution_count": 15,
   "metadata": {},
   "outputs": [
    {
     "data": {
      "text/plain": [
       "(339959, 36)"
      ]
     },
     "execution_count": 15,
     "metadata": {},
     "output_type": "execute_result"
    }
   ],
   "source": [
    "merged = merged[((merged['total_price_excluding_optional_support'] - merged['total_price_excluding_optional_support'].mean()) / merged['total_price_excluding_optional_support'].std()).abs() < 3]\n",
    "merged.shape"
   ]
  },
  {
   "cell_type": "code",
   "execution_count": 16,
   "metadata": {},
   "outputs": [
    {
     "data": {
      "text/plain": [
       "(332403, 36)"
      ]
     },
     "execution_count": 16,
     "metadata": {},
     "output_type": "execute_result"
    }
   ],
   "source": [
    "merged = merged[((merged['total_price_including_optional_support'] - merged['total_price_including_optional_support'].mean()) / merged['total_price_including_optional_support'].std()).abs() < 3]\n",
    "merged.shape"
   ]
  },
  {
   "cell_type": "markdown",
   "metadata": {},
   "source": [
    "Next, I need to turn all variables that are True or False into binary 1 or 0 variables. Those have been identified in the one_zero list below."
   ]
  },
  {
   "cell_type": "code",
   "execution_count": 17,
   "metadata": {
    "scrolled": true
   },
   "outputs": [
    {
     "data": {
      "text/plain": [
       "0    1\n",
       "1    0\n",
       "2    0\n",
       "3    0\n",
       "4    1\n",
       "Name: fully_funded_new, dtype: int64"
      ]
     },
     "execution_count": 17,
     "metadata": {},
     "output_type": "execute_result"
    }
   ],
   "source": [
    "one_zero = ['eligible_almost_home_match', 'eligible_double_your_impact_match', 'teacher_ny_teaching_fellow', 'teacher_teach_for_america', 'school_charter_ready_promise', 'school_kipp', 'school_nlns', 'school_year_round', 'school_magnet', 'school_charter', 'fully_funded'] \n",
    "de.true_to_false(merged, one_zero)\n",
    "merged['fully_funded_new'].head()"
   ]
  },
  {
   "cell_type": "code",
   "execution_count": 18,
   "metadata": {},
   "outputs": [
    {
     "data": {
      "text/plain": [
       "(332403, 36)"
      ]
     },
     "execution_count": 18,
     "metadata": {},
     "output_type": "execute_result"
    }
   ],
   "source": [
    "merged.shape"
   ]
  },
  {
   "cell_type": "markdown",
   "metadata": {},
   "source": [
    "Next, I'll go about deleting variables which I don't expect to be useful. Those include projectid, teacher_acctid, schoolid, and some location variables. I also will replace nulls in students_reached with a median of their values (all the other variables with nulls are being deleted). I'll be binning students_reached and total_price variables."
   ]
  },
  {
   "cell_type": "code",
   "execution_count": 19,
   "metadata": {},
   "outputs": [
    {
     "data": {
      "text/plain": [
       "(332403, 24)"
      ]
     },
     "execution_count": 19,
     "metadata": {},
     "output_type": "execute_result"
    }
   ],
   "source": [
    "nulls_d = {'students_reached': 'median'}\n",
    "delv = ['fulfillment_labor_materials','school_zip', 'teacher_acctid', 'schoolid', 'teacher_prefix','school_ncesid', 'school_latitude', 'school_longitude', 'school_city', 'school_state', 'school_district', 'school_county']\n",
    "disc = ['students_reached', 'total_price_excluding_optional_support', 'total_price_including_optional_support']\n",
    "\n",
    "clean_df = de.clean_data(merged, nulls_d, disc, [], delv)\n",
    "clean_df.shape"
   ]
  },
  {
   "cell_type": "markdown",
   "metadata": {},
   "source": [
    "I'll now take a look at correlations across different variables to understand which variables might need to be deleted because of multicollinearity."
   ]
  },
  {
   "cell_type": "code",
   "execution_count": 20,
   "metadata": {},
   "outputs": [
    {
     "data": {
      "image/png": "[encoded data removed]",
      "text/plain": [
       "<matplotlib.figure.Figure at 0x114380da0>"
      ]
     },
     "metadata": {},
     "output_type": "display_data"
    }
   ],
   "source": [
    "de.explore_potential_correlations(clean_df)"
   ]
  },
  {
   "cell_type": "markdown",
   "metadata": {},
   "source": [
    "There appear to be strongly negative correlations between total price included, total price excluded and whether a project is fully funded. Naturally, total price included and total price excluded are correlated within themselves. No need to delete anything on account of correlations here"
   ]
  },
  {
   "cell_type": "markdown",
   "metadata": {},
   "source": [
    "# 2) Data Exploration"
   ]
  },
  {
   "cell_type": "markdown",
   "metadata": {},
   "source": [
    "I'll start graphing some of the data from the cleaned dataframe below to better understand what I have, and what questions I could answer upfront."
   ]
  },
  {
   "cell_type": "code",
   "execution_count": 21,
   "metadata": {},
   "outputs": [
    {
     "name": "stdout",
     "output_type": "stream",
     "text": [
      "Histograms of all columns\n"
     ]
    },
    {
     "data": {
      "image/png": "[encoded data removed]",
      "text/plain": [
       "<matplotlib.figure.Figure at 0x115124ba8>"
      ]
     },
     "metadata": {},
     "output_type": "display_data"
    }
   ],
   "source": [
    "de.plot_data(clean_df, 'hist', None, None)"
   ]
  },
  {
   "cell_type": "markdown",
   "metadata": {},
   "source": [
    "Some toplines here: Most projects are fully funded, the proportion of teach for america or ny teaching fellows in comparison to all projects is small, most projects are destined to reach a small number of students, and a match strategy tends to be more successful than a last chance to donate strategy"
   ]
  },
  {
   "cell_type": "code",
   "execution_count": 22,
   "metadata": {},
   "outputs": [
    {
     "data": {
      "image/png": "[encoded data removed]",
      "text/plain": [
       "<matplotlib.figure.Figure at 0x1149e2cc0>"
      ]
     },
     "metadata": {},
     "output_type": "display_data"
    }
   ],
   "source": [
    "de.pie_vals(clean_df, 'fully_funded_new', labels = ('Yes', 'No'))"
   ]
  },
  {
   "cell_type": "markdown",
   "metadata": {},
   "source": [
    "As we can see above, a majority of the projects wind up being funded. "
   ]
  },
  {
   "cell_type": "code",
   "execution_count": 23,
   "metadata": {},
   "outputs": [
    {
     "data": {
      "image/png": "[encoded data removed]",
      "text/plain": [
       "<matplotlib.figure.Figure at 0x114998828>"
      ]
     },
     "metadata": {},
     "output_type": "display_data"
    }
   ],
   "source": [
    "de.graph_crosstab(clean_df, 'students_reached_groups', 'fully_funded_new')"
   ]
  },
  {
   "cell_type": "markdown",
   "metadata": {},
   "source": [
    "Across all groups of students reached, projects tend to be funded, but that difference is more pronounced the smaller the groups of students reached gets. Also, the gap between funded and unfunded projects for smaller groups is larger than for bigger groups of students reached"
   ]
  },
  {
   "cell_type": "code",
   "execution_count": 24,
   "metadata": {},
   "outputs": [
    {
     "data": {
      "image/png": "[encoded data removed]",
      "text/plain": [
       "<matplotlib.figure.Figure at 0x114a34ba8>"
      ]
     },
     "metadata": {},
     "output_type": "display_data"
    }
   ],
   "source": [
    "de.pie_vals(clean_df, 'poverty_level')"
   ]
  },
  {
   "cell_type": "markdown",
   "metadata": {},
   "source": [
    "The vast majority of projects for which funding is requested are for those in highest poverty"
   ]
  },
  {
   "cell_type": "code",
   "execution_count": 25,
   "metadata": {},
   "outputs": [
    {
     "data": {
      "image/png": "[encoded data removed]",
      "text/plain": [
       "<matplotlib.figure.Figure at 0x114d5d748>"
      ]
     },
     "metadata": {},
     "output_type": "display_data"
    }
   ],
   "source": [
    "de.graph_crosstab(clean_df, 'poverty_level', 'fully_funded_new')"
   ]
  },
  {
   "cell_type": "markdown",
   "metadata": {},
   "source": [
    "Across poverty levels, projects tend to get funded. That said, more projects are funded at higher poverty levels than not."
   ]
  },
  {
   "cell_type": "code",
   "execution_count": 26,
   "metadata": {},
   "outputs": [
    {
     "data": {
      "image/png": "[encoded data removed]",
      "text/plain": [
       "<matplotlib.figure.Figure at 0x114a265c0>"
      ]
     },
     "metadata": {},
     "output_type": "display_data"
    }
   ],
   "source": [
    "de.pie_vals(clean_df, 'primary_focus_area')"
   ]
  },
  {
   "cell_type": "markdown",
   "metadata": {},
   "source": [
    "Literacy and Language account for close to half of all the project proposals, with Math and Science making up the bulk of the rest"
   ]
  },
  {
   "cell_type": "code",
   "execution_count": 27,
   "metadata": {},
   "outputs": [
    {
     "data": {
      "image/png": "[encoded data removed]",
      "text/plain": [
       "<matplotlib.figure.Figure at 0x114a04ac8>"
      ]
     },
     "metadata": {},
     "output_type": "display_data"
    }
   ],
   "source": [
    "de.graph_crosstab(clean_df, 'primary_focus_area', 'fully_funded_new')"
   ]
  },
  {
   "cell_type": "markdown",
   "metadata": {},
   "source": [
    "Across the board, projects in any subject area are more likely to get funded than not"
   ]
  },
  {
   "cell_type": "markdown",
   "metadata": {},
   "source": [
    "# 3) Get Features and Split the Data"
   ]
  },
  {
   "cell_type": "markdown",
   "metadata": {},
   "source": [
    "First I need a reminder of what I have in this dataframe"
   ]
  },
  {
   "cell_type": "code",
   "execution_count": 28,
   "metadata": {},
   "outputs": [
    {
     "data": {
      "text/html": [
       "<div>\n",
       "<style>\n",
       "    .dataframe thead tr:only-child th {\n",
       "        text-align: right;\n",
       "    }\n",
       "\n",
       "    .dataframe thead th {\n",
       "        text-align: left;\n",
       "    }\n",
       "\n",
       "    .dataframe tbody tr th {\n",
       "        vertical-align: top;\n",
       "    }\n",
       "</style>\n",
       "<table border=\"1\" class=\"dataframe\">\n",
       "  <thead>\n",
       "    <tr style=\"text-align: right;\">\n",
       "      <th></th>\n",
       "      <th>projectid</th>\n",
       "      <th>school_metro</th>\n",
       "      <th>primary_focus_subject</th>\n",
       "      <th>primary_focus_area</th>\n",
       "      <th>secondary_focus_subject</th>\n",
       "      <th>secondary_focus_area</th>\n",
       "      <th>resource_type</th>\n",
       "      <th>poverty_level</th>\n",
       "      <th>grade_level</th>\n",
       "      <th>date_posted</th>\n",
       "      <th>...</th>\n",
       "      <th>school_charter_ready_promise_new</th>\n",
       "      <th>school_kipp_new</th>\n",
       "      <th>school_nlns_new</th>\n",
       "      <th>school_year_round_new</th>\n",
       "      <th>school_magnet_new</th>\n",
       "      <th>school_charter_new</th>\n",
       "      <th>fully_funded_new</th>\n",
       "      <th>students_reached_groups</th>\n",
       "      <th>tp_exclude</th>\n",
       "      <th>tp_include</th>\n",
       "    </tr>\n",
       "  </thead>\n",
       "  <tbody>\n",
       "    <tr>\n",
       "      <th>0</th>\n",
       "      <td>62526d85d2a1818432d03d600969e99c</td>\n",
       "      <td>suburban</td>\n",
       "      <td>Special Needs</td>\n",
       "      <td>Special Needs</td>\n",
       "      <td>Literacy</td>\n",
       "      <td>Literacy &amp; Language</td>\n",
       "      <td>Other</td>\n",
       "      <td>moderate poverty</td>\n",
       "      <td>Grades 3-5</td>\n",
       "      <td>2013-12-31</td>\n",
       "      <td>...</td>\n",
       "      <td>0</td>\n",
       "      <td>0</td>\n",
       "      <td>0</td>\n",
       "      <td>0</td>\n",
       "      <td>0</td>\n",
       "      <td>0</td>\n",
       "      <td>1</td>\n",
       "      <td>0</td>\n",
       "      <td>0</td>\n",
       "      <td>1</td>\n",
       "    </tr>\n",
       "    <tr>\n",
       "      <th>1</th>\n",
       "      <td>33d59ac771b80222ad63ef0f4ac47ade</td>\n",
       "      <td>urban</td>\n",
       "      <td>Mathematics</td>\n",
       "      <td>Math &amp; Science</td>\n",
       "      <td>NaN</td>\n",
       "      <td>NaN</td>\n",
       "      <td>Supplies</td>\n",
       "      <td>high poverty</td>\n",
       "      <td>Grades 3-5</td>\n",
       "      <td>2013-12-31</td>\n",
       "      <td>...</td>\n",
       "      <td>0</td>\n",
       "      <td>0</td>\n",
       "      <td>0</td>\n",
       "      <td>0</td>\n",
       "      <td>0</td>\n",
       "      <td>0</td>\n",
       "      <td>0</td>\n",
       "      <td>0</td>\n",
       "      <td>0</td>\n",
       "      <td>0</td>\n",
       "    </tr>\n",
       "    <tr>\n",
       "      <th>2</th>\n",
       "      <td>1a3aaeffc56dd2a421e37d8298024c0a</td>\n",
       "      <td>suburban</td>\n",
       "      <td>Environmental Science</td>\n",
       "      <td>Math &amp; Science</td>\n",
       "      <td>Applied Sciences</td>\n",
       "      <td>Math &amp; Science</td>\n",
       "      <td>Technology</td>\n",
       "      <td>moderate poverty</td>\n",
       "      <td>Grades 6-8</td>\n",
       "      <td>2013-12-31</td>\n",
       "      <td>...</td>\n",
       "      <td>0</td>\n",
       "      <td>0</td>\n",
       "      <td>0</td>\n",
       "      <td>0</td>\n",
       "      <td>0</td>\n",
       "      <td>0</td>\n",
       "      <td>0</td>\n",
       "      <td>0</td>\n",
       "      <td>0</td>\n",
       "      <td>0</td>\n",
       "    </tr>\n",
       "    <tr>\n",
       "      <th>3</th>\n",
       "      <td>33aa19ee4da4c5adf47d0dfb84fab5ef</td>\n",
       "      <td>urban</td>\n",
       "      <td>Literacy</td>\n",
       "      <td>Literacy &amp; Language</td>\n",
       "      <td>NaN</td>\n",
       "      <td>NaN</td>\n",
       "      <td>Other</td>\n",
       "      <td>highest poverty</td>\n",
       "      <td>Grades PreK-2</td>\n",
       "      <td>2013-12-31</td>\n",
       "      <td>...</td>\n",
       "      <td>0</td>\n",
       "      <td>0</td>\n",
       "      <td>0</td>\n",
       "      <td>0</td>\n",
       "      <td>0</td>\n",
       "      <td>0</td>\n",
       "      <td>0</td>\n",
       "      <td>0</td>\n",
       "      <td>0</td>\n",
       "      <td>0</td>\n",
       "    </tr>\n",
       "    <tr>\n",
       "      <th>4</th>\n",
       "      <td>e31c0ea8b68f404699dfb0d39e9bc99b</td>\n",
       "      <td>urban</td>\n",
       "      <td>Environmental Science</td>\n",
       "      <td>Math &amp; Science</td>\n",
       "      <td>NaN</td>\n",
       "      <td>NaN</td>\n",
       "      <td>Supplies</td>\n",
       "      <td>highest poverty</td>\n",
       "      <td>Grades 6-8</td>\n",
       "      <td>2013-12-31</td>\n",
       "      <td>...</td>\n",
       "      <td>0</td>\n",
       "      <td>0</td>\n",
       "      <td>0</td>\n",
       "      <td>0</td>\n",
       "      <td>1</td>\n",
       "      <td>0</td>\n",
       "      <td>1</td>\n",
       "      <td>0</td>\n",
       "      <td>1</td>\n",
       "      <td>1</td>\n",
       "    </tr>\n",
       "  </tbody>\n",
       "</table>\n",
       "<p>5 rows × 24 columns</p>\n",
       "</div>"
      ],
      "text/plain": [
       "                          projectid school_metro  primary_focus_subject  \\\n",
       "0  62526d85d2a1818432d03d600969e99c     suburban          Special Needs   \n",
       "1  33d59ac771b80222ad63ef0f4ac47ade        urban            Mathematics   \n",
       "2  1a3aaeffc56dd2a421e37d8298024c0a     suburban  Environmental Science   \n",
       "3  33aa19ee4da4c5adf47d0dfb84fab5ef        urban               Literacy   \n",
       "4  e31c0ea8b68f404699dfb0d39e9bc99b        urban  Environmental Science   \n",
       "\n",
       "    primary_focus_area secondary_focus_subject secondary_focus_area  \\\n",
       "0        Special Needs                Literacy  Literacy & Language   \n",
       "1       Math & Science                     NaN                  NaN   \n",
       "2       Math & Science        Applied Sciences       Math & Science   \n",
       "3  Literacy & Language                     NaN                  NaN   \n",
       "4       Math & Science                     NaN                  NaN   \n",
       "\n",
       "  resource_type     poverty_level    grade_level date_posted     ...      \\\n",
       "0         Other  moderate poverty     Grades 3-5  2013-12-31     ...       \n",
       "1      Supplies      high poverty     Grades 3-5  2013-12-31     ...       \n",
       "2    Technology  moderate poverty     Grades 6-8  2013-12-31     ...       \n",
       "3         Other   highest poverty  Grades PreK-2  2013-12-31     ...       \n",
       "4      Supplies   highest poverty     Grades 6-8  2013-12-31     ...       \n",
       "\n",
       "   school_charter_ready_promise_new  school_kipp_new  school_nlns_new  \\\n",
       "0                                 0                0                0   \n",
       "1                                 0                0                0   \n",
       "2                                 0                0                0   \n",
       "3                                 0                0                0   \n",
       "4                                 0                0                0   \n",
       "\n",
       "   school_year_round_new  school_magnet_new  school_charter_new  \\\n",
       "0                      0                  0                   0   \n",
       "1                      0                  0                   0   \n",
       "2                      0                  0                   0   \n",
       "3                      0                  0                   0   \n",
       "4                      0                  1                   0   \n",
       "\n",
       "   fully_funded_new  students_reached_groups  tp_exclude  tp_include  \n",
       "0                 1                        0           0           1  \n",
       "1                 0                        0           0           0  \n",
       "2                 0                        0           0           0  \n",
       "3                 0                        0           0           0  \n",
       "4                 1                        0           1           1  \n",
       "\n",
       "[5 rows x 24 columns]"
      ]
     },
     "execution_count": 28,
     "metadata": {},
     "output_type": "execute_result"
    }
   ],
   "source": [
    "clean_df.head()"
   ]
  },
  {
   "cell_type": "code",
   "execution_count": 29,
   "metadata": {},
   "outputs": [
    {
     "data": {
      "text/plain": [
       "(332403, 24)"
      ]
     },
     "execution_count": 29,
     "metadata": {},
     "output_type": "execute_result"
    }
   ],
   "source": [
    "clean_df.shape"
   ]
  },
  {
   "cell_type": "code",
   "execution_count": 30,
   "metadata": {},
   "outputs": [
    {
     "name": "stdout",
     "output_type": "stream",
     "text": [
      "projectid\n",
      "school_metro\n",
      "primary_focus_subject\n",
      "primary_focus_area\n",
      "secondary_focus_subject\n",
      "secondary_focus_area\n",
      "resource_type\n",
      "poverty_level\n",
      "grade_level\n",
      "date_posted\n",
      "eligible_almost_home_match_new\n",
      "eligible_double_your_impact_match_new\n",
      "teacher_ny_teaching_fellow_new\n",
      "teacher_teach_for_america_new\n",
      "school_charter_ready_promise_new\n",
      "school_kipp_new\n",
      "school_nlns_new\n",
      "school_year_round_new\n",
      "school_magnet_new\n",
      "school_charter_new\n",
      "fully_funded_new\n",
      "students_reached_groups\n",
      "tp_exclude\n",
      "tp_include\n"
     ]
    }
   ],
   "source": [
    "for c in clean_df:\n",
    "    print(c)"
   ]
  },
  {
   "cell_type": "markdown",
   "metadata": {},
   "source": [
    "One last bit of cleaning, I should drop projectid. Not likely to be predictive. "
   ]
  },
  {
   "cell_type": "code",
   "execution_count": 31,
   "metadata": {
    "collapsed": true
   },
   "outputs": [],
   "source": [
    "del clean_df['projectid']"
   ]
  },
  {
   "cell_type": "code",
   "execution_count": 32,
   "metadata": {},
   "outputs": [
    {
     "data": {
      "text/plain": [
       "(332403, 23)"
      ]
     },
     "execution_count": 32,
     "metadata": {},
     "output_type": "execute_result"
    }
   ],
   "source": [
    "clean_df.shape"
   ]
  },
  {
   "cell_type": "markdown",
   "metadata": {},
   "source": [
    "Time to turn some variables into dummies. "
   ]
  },
  {
   "cell_type": "code",
   "execution_count": 33,
   "metadata": {
    "collapsed": true
   },
   "outputs": [],
   "source": [
    "to_dummy = ['students_reached_groups', 'tp_include', 'tp_exclude', 'school_metro','primary_focus_subject', 'primary_focus_area', 'secondary_focus_subject', 'secondary_focus_area', 'resource_type', 'poverty_level', 'grade_level']\n",
    "new_df = de.dummify(merged, to_dummy)"
   ]
  },
  {
   "cell_type": "code",
   "execution_count": 34,
   "metadata": {},
   "outputs": [
    {
     "data": {
      "text/plain": [
       "(332403, 118)"
      ]
     },
     "execution_count": 34,
     "metadata": {},
     "output_type": "execute_result"
    }
   ],
   "source": [
    "new_df.shape"
   ]
  },
  {
   "cell_type": "code",
   "execution_count": 35,
   "metadata": {},
   "outputs": [
    {
     "data": {
      "text/html": [
       "<div>\n",
       "<style>\n",
       "    .dataframe thead tr:only-child th {\n",
       "        text-align: right;\n",
       "    }\n",
       "\n",
       "    .dataframe thead th {\n",
       "        text-align: left;\n",
       "    }\n",
       "\n",
       "    .dataframe tbody tr th {\n",
       "        vertical-align: top;\n",
       "    }\n",
       "</style>\n",
       "<table border=\"1\" class=\"dataframe\">\n",
       "  <thead>\n",
       "    <tr style=\"text-align: right;\">\n",
       "      <th></th>\n",
       "      <th>date_posted</th>\n",
       "      <th>eligible_almost_home_match_new</th>\n",
       "      <th>eligible_double_your_impact_match_new</th>\n",
       "      <th>teacher_ny_teaching_fellow_new</th>\n",
       "      <th>teacher_teach_for_america_new</th>\n",
       "      <th>school_charter_ready_promise_new</th>\n",
       "      <th>school_kipp_new</th>\n",
       "      <th>school_nlns_new</th>\n",
       "      <th>school_year_round_new</th>\n",
       "      <th>school_magnet_new</th>\n",
       "      <th>...</th>\n",
       "      <th>poverty_level_high poverty</th>\n",
       "      <th>poverty_level_highest poverty</th>\n",
       "      <th>poverty_level_low poverty</th>\n",
       "      <th>poverty_level_moderate poverty</th>\n",
       "      <th>poverty_level_nan</th>\n",
       "      <th>grade_level_Grades 3-5</th>\n",
       "      <th>grade_level_Grades 6-8</th>\n",
       "      <th>grade_level_Grades 9-12</th>\n",
       "      <th>grade_level_Grades PreK-2</th>\n",
       "      <th>grade_level_nan</th>\n",
       "    </tr>\n",
       "  </thead>\n",
       "  <tbody>\n",
       "    <tr>\n",
       "      <th>0</th>\n",
       "      <td>2013-12-31</td>\n",
       "      <td>0</td>\n",
       "      <td>0</td>\n",
       "      <td>0</td>\n",
       "      <td>0</td>\n",
       "      <td>0</td>\n",
       "      <td>0</td>\n",
       "      <td>0</td>\n",
       "      <td>0</td>\n",
       "      <td>0</td>\n",
       "      <td>...</td>\n",
       "      <td>0</td>\n",
       "      <td>0</td>\n",
       "      <td>0</td>\n",
       "      <td>1</td>\n",
       "      <td>0</td>\n",
       "      <td>1</td>\n",
       "      <td>0</td>\n",
       "      <td>0</td>\n",
       "      <td>0</td>\n",
       "      <td>0</td>\n",
       "    </tr>\n",
       "    <tr>\n",
       "      <th>1</th>\n",
       "      <td>2013-12-31</td>\n",
       "      <td>0</td>\n",
       "      <td>0</td>\n",
       "      <td>0</td>\n",
       "      <td>0</td>\n",
       "      <td>0</td>\n",
       "      <td>0</td>\n",
       "      <td>0</td>\n",
       "      <td>0</td>\n",
       "      <td>0</td>\n",
       "      <td>...</td>\n",
       "      <td>1</td>\n",
       "      <td>0</td>\n",
       "      <td>0</td>\n",
       "      <td>0</td>\n",
       "      <td>0</td>\n",
       "      <td>1</td>\n",
       "      <td>0</td>\n",
       "      <td>0</td>\n",
       "      <td>0</td>\n",
       "      <td>0</td>\n",
       "    </tr>\n",
       "    <tr>\n",
       "      <th>2</th>\n",
       "      <td>2013-12-31</td>\n",
       "      <td>0</td>\n",
       "      <td>0</td>\n",
       "      <td>0</td>\n",
       "      <td>0</td>\n",
       "      <td>0</td>\n",
       "      <td>0</td>\n",
       "      <td>0</td>\n",
       "      <td>0</td>\n",
       "      <td>0</td>\n",
       "      <td>...</td>\n",
       "      <td>0</td>\n",
       "      <td>0</td>\n",
       "      <td>0</td>\n",
       "      <td>1</td>\n",
       "      <td>0</td>\n",
       "      <td>0</td>\n",
       "      <td>1</td>\n",
       "      <td>0</td>\n",
       "      <td>0</td>\n",
       "      <td>0</td>\n",
       "    </tr>\n",
       "    <tr>\n",
       "      <th>3</th>\n",
       "      <td>2013-12-31</td>\n",
       "      <td>0</td>\n",
       "      <td>0</td>\n",
       "      <td>0</td>\n",
       "      <td>0</td>\n",
       "      <td>0</td>\n",
       "      <td>0</td>\n",
       "      <td>0</td>\n",
       "      <td>0</td>\n",
       "      <td>0</td>\n",
       "      <td>...</td>\n",
       "      <td>0</td>\n",
       "      <td>1</td>\n",
       "      <td>0</td>\n",
       "      <td>0</td>\n",
       "      <td>0</td>\n",
       "      <td>0</td>\n",
       "      <td>0</td>\n",
       "      <td>0</td>\n",
       "      <td>1</td>\n",
       "      <td>0</td>\n",
       "    </tr>\n",
       "    <tr>\n",
       "      <th>4</th>\n",
       "      <td>2013-12-31</td>\n",
       "      <td>0</td>\n",
       "      <td>1</td>\n",
       "      <td>0</td>\n",
       "      <td>0</td>\n",
       "      <td>0</td>\n",
       "      <td>0</td>\n",
       "      <td>0</td>\n",
       "      <td>0</td>\n",
       "      <td>1</td>\n",
       "      <td>...</td>\n",
       "      <td>0</td>\n",
       "      <td>1</td>\n",
       "      <td>0</td>\n",
       "      <td>0</td>\n",
       "      <td>0</td>\n",
       "      <td>0</td>\n",
       "      <td>1</td>\n",
       "      <td>0</td>\n",
       "      <td>0</td>\n",
       "      <td>0</td>\n",
       "    </tr>\n",
       "  </tbody>\n",
       "</table>\n",
       "<p>5 rows × 118 columns</p>\n",
       "</div>"
      ],
      "text/plain": [
       "  date_posted  eligible_almost_home_match_new  \\\n",
       "0  2013-12-31                               0   \n",
       "1  2013-12-31                               0   \n",
       "2  2013-12-31                               0   \n",
       "3  2013-12-31                               0   \n",
       "4  2013-12-31                               0   \n",
       "\n",
       "   eligible_double_your_impact_match_new  teacher_ny_teaching_fellow_new  \\\n",
       "0                                      0                               0   \n",
       "1                                      0                               0   \n",
       "2                                      0                               0   \n",
       "3                                      0                               0   \n",
       "4                                      1                               0   \n",
       "\n",
       "   teacher_teach_for_america_new  school_charter_ready_promise_new  \\\n",
       "0                              0                                 0   \n",
       "1                              0                                 0   \n",
       "2                              0                                 0   \n",
       "3                              0                                 0   \n",
       "4                              0                                 0   \n",
       "\n",
       "   school_kipp_new  school_nlns_new  school_year_round_new  school_magnet_new  \\\n",
       "0                0                0                      0                  0   \n",
       "1                0                0                      0                  0   \n",
       "2                0                0                      0                  0   \n",
       "3                0                0                      0                  0   \n",
       "4                0                0                      0                  1   \n",
       "\n",
       "        ...         poverty_level_high poverty  poverty_level_highest poverty  \\\n",
       "0       ...                                  0                              0   \n",
       "1       ...                                  1                              0   \n",
       "2       ...                                  0                              0   \n",
       "3       ...                                  0                              1   \n",
       "4       ...                                  0                              1   \n",
       "\n",
       "   poverty_level_low poverty  poverty_level_moderate poverty  \\\n",
       "0                          0                               1   \n",
       "1                          0                               0   \n",
       "2                          0                               1   \n",
       "3                          0                               0   \n",
       "4                          0                               0   \n",
       "\n",
       "   poverty_level_nan  grade_level_Grades 3-5  grade_level_Grades 6-8  \\\n",
       "0                  0                       1                       0   \n",
       "1                  0                       1                       0   \n",
       "2                  0                       0                       1   \n",
       "3                  0                       0                       0   \n",
       "4                  0                       0                       1   \n",
       "\n",
       "   grade_level_Grades 9-12  grade_level_Grades PreK-2  grade_level_nan  \n",
       "0                        0                          0                0  \n",
       "1                        0                          0                0  \n",
       "2                        0                          0                0  \n",
       "3                        0                          1                0  \n",
       "4                        0                          0                0  \n",
       "\n",
       "[5 rows x 118 columns]"
      ]
     },
     "execution_count": 35,
     "metadata": {},
     "output_type": "execute_result"
    }
   ],
   "source": [
    "new_df.head()"
   ]
  },
  {
   "cell_type": "markdown",
   "metadata": {},
   "source": [
    "Time to get my features"
   ]
  },
  {
   "cell_type": "code",
   "execution_count": 36,
   "metadata": {
    "collapsed": true
   },
   "outputs": [],
   "source": [
    "features = []\n",
    "for c in new_df:\n",
    "    features.append(c)"
   ]
  },
  {
   "cell_type": "code",
   "execution_count": 38,
   "metadata": {},
   "outputs": [
    {
     "data": {
      "text/plain": [
       "118"
      ]
     },
     "execution_count": 38,
     "metadata": {},
     "output_type": "execute_result"
    }
   ],
   "source": [
    "len(features)"
   ]
  },
  {
   "cell_type": "markdown",
   "metadata": {},
   "source": [
    "Since I am predicting probability that a project will be funded in six months from time of posting, I will create test-train splits as follows:\n",
    "\n",
    "- train data from 2011-01-01 to 2011-12-31, test through 2012-01-01 to 2012-07-01\n",
    "- train data from 2011-01-01 to 2012-06-30, test on 2012-07-01 to 2012-12-31\n",
    "- train data on 2011-01-01 to 2012-12-31, test on 2013-01-01 to 2013-06-30\n",
    "- train data on 2011-01-01 to 2013-06-30, test on 2013-07-01 to 2013-12-31"
   ]
  },
  {
   "cell_type": "code",
   "execution_count": 74,
   "metadata": {
    "collapsed": true
   },
   "outputs": [],
   "source": [
    "date_ranges = {('2011-01-01', '2011-12-31'):('2012-01-01', '2012-06-30'), ('2011-01-01', '2012-06-30'):('2012-07-01','2012-12-31'), ('2011-01-01', '2012-12-31'):('2013-01-01', '2013-06-30'), ('2011-01-01', '2013-06-30'):('2013-07-01', '2013-12-31')}\n",
    "train_test_lists = de.split_data(new_df, 'fully_funded_new', None, True, 'date_posted', date_ranges)"
   ]
  },
  {
   "cell_type": "code",
   "execution_count": 75,
   "metadata": {
    "collapsed": true
   },
   "outputs": [],
   "source": [
    "train_test_one = train_test_lists[0]\n",
    "train_test_two = train_test_lists[1]\n",
    "train_test_three = train_test_lists[2]\n",
    "train_test_final = train_test_lists[3]"
   ]
  },
  {
   "cell_type": "code",
   "execution_count": 76,
   "metadata": {},
   "outputs": [
    {
     "name": "stdout",
     "output_type": "stream",
     "text": [
      "(251983, 116)\n",
      "(251983, 1)\n",
      "(80213, 116)\n",
      "(80213, 1)\n"
     ]
    }
   ],
   "source": [
    "print(train_test_final[0].shape)\n",
    "print(train_test_final[1].shape)\n",
    "print(train_test_final[2].shape)\n",
    "print(train_test_final[3].shape)"
   ]
  },
  {
   "cell_type": "markdown",
   "metadata": {},
   "source": [
    "# 4) Machine Learning  "
   ]
  },
  {
   "cell_type": "markdown",
   "metadata": {},
   "source": [
    "I will now run the train test splits over the magic loop. "
   ]
  },
  {
   "cell_type": "code",
   "execution_count": 77,
   "metadata": {},
   "outputs": [
    {
     "name": "stderr",
     "output_type": "stream",
     "text": [
      "/Users/mariomoreno/anaconda3/lib/python3.6/site-packages/ipykernel_launcher.py:2: FutureWarning: reshape is deprecated and will raise in a subsequent release. Please use .values.reshape(...) instead\n",
      "  \n"
     ]
    }
   ],
   "source": [
    "ser1 = train_test_one[1].T.squeeze()\n",
    "ser1s = ser1.reshape(-1, 1)"
   ]
  },
  {
   "cell_type": "code",
   "execution_count": 78,
   "metadata": {
    "scrolled": true
   },
   "outputs": [
    {
     "name": "stderr",
     "output_type": "stream",
     "text": [
      "/Users/mariomoreno/anaconda3/lib/python3.6/site-packages/ipykernel_launcher.py:2: FutureWarning: reshape is deprecated and will raise in a subsequent release. Please use .values.reshape(...) instead\n",
      "  \n"
     ]
    }
   ],
   "source": [
    "ser2 = train_test_one[3].T.squeeze()\n",
    "ser2s = ser2.reshape(-1, 1)"
   ]
  },
  {
   "cell_type": "code",
   "execution_count": 86,
   "metadata": {},
   "outputs": [
    {
     "name": "stdout",
     "output_type": "stream",
     "text": [
      "RF\n"
     ]
    },
    {
     "name": "stderr",
     "output_type": "stream",
     "text": [
      "/Users/mariomoreno/Desktop/Grad School/Machine Learning/Homeworks/HW4/algorithm_pipeline.py:60: DataConversionWarning: A column-vector y was passed when a 1d array was expected. Please change the shape of y to (n_samples,), for example using ravel().\n",
      "  clf.fit(X_train, y_train)\n"
     ]
    },
    {
     "name": "stdout",
     "output_type": "stream",
     "text": [
      "DT\n",
      "KNN\n"
     ]
    },
    {
     "name": "stderr",
     "output_type": "stream",
     "text": [
      "/Users/mariomoreno/Desktop/Grad School/Machine Learning/Homeworks/HW4/algorithm_pipeline.py:60: DataConversionWarning: A column-vector y was passed when a 1d array was expected. Please change the shape of y to (n_samples, ), for example using ravel().\n",
      "  clf.fit(X_train, y_train)\n"
     ]
    },
    {
     "name": "stdout",
     "output_type": "stream",
     "text": [
      "ET\n"
     ]
    },
    {
     "name": "stderr",
     "output_type": "stream",
     "text": [
      "/Users/mariomoreno/Desktop/Grad School/Machine Learning/Homeworks/HW4/algorithm_pipeline.py:60: DataConversionWarning: A column-vector y was passed when a 1d array was expected. Please change the shape of y to (n_samples,), for example using ravel().\n",
      "  clf.fit(X_train, y_train)\n"
     ]
    },
    {
     "name": "stdout",
     "output_type": "stream",
     "text": [
      "AB\n"
     ]
    },
    {
     "name": "stderr",
     "output_type": "stream",
     "text": [
      "/Users/mariomoreno/anaconda3/lib/python3.6/site-packages/sklearn/utils/validation.py:578: DataConversionWarning: A column-vector y was passed when a 1d array was expected. Please change the shape of y to (n_samples, ), for example using ravel().\n",
      "  y = column_or_1d(y, warn=True)\n"
     ]
    },
    {
     "name": "stdout",
     "output_type": "stream",
     "text": [
      "GB\n"
     ]
    },
    {
     "name": "stderr",
     "output_type": "stream",
     "text": [
      "/Users/mariomoreno/anaconda3/lib/python3.6/site-packages/sklearn/utils/validation.py:578: DataConversionWarning: A column-vector y was passed when a 1d array was expected. Please change the shape of y to (n_samples, ), for example using ravel().\n",
      "  y = column_or_1d(y, warn=True)\n"
     ]
    },
    {
     "name": "stdout",
     "output_type": "stream",
     "text": [
      "LR\n"
     ]
    },
    {
     "name": "stderr",
     "output_type": "stream",
     "text": [
      "/Users/mariomoreno/anaconda3/lib/python3.6/site-packages/sklearn/utils/validation.py:578: DataConversionWarning: A column-vector y was passed when a 1d array was expected. Please change the shape of y to (n_samples, ), for example using ravel().\n",
      "  y = column_or_1d(y, warn=True)\n"
     ]
    },
    {
     "name": "stdout",
     "output_type": "stream",
     "text": [
      "NB\n"
     ]
    },
    {
     "data": {
      "text/html": [
       "<div>\n",
       "<style>\n",
       "    .dataframe thead tr:only-child th {\n",
       "        text-align: right;\n",
       "    }\n",
       "\n",
       "    .dataframe thead th {\n",
       "        text-align: left;\n",
       "    }\n",
       "\n",
       "    .dataframe tbody tr th {\n",
       "        vertical-align: top;\n",
       "    }\n",
       "</style>\n",
       "<table border=\"1\" class=\"dataframe\">\n",
       "  <thead>\n",
       "    <tr style=\"text-align: right;\">\n",
       "      <th></th>\n",
       "      <th>model_type</th>\n",
       "      <th>clf</th>\n",
       "      <th>parameters</th>\n",
       "      <th>time_used</th>\n",
       "      <th>auc-roc</th>\n",
       "      <th>accuracy</th>\n",
       "      <th>p_at_1</th>\n",
       "      <th>p_at_1</th>\n",
       "      <th>p_at_10</th>\n",
       "      <th>p_at_30</th>\n",
       "      <th>r_at_1</th>\n",
       "      <th>r_at_5</th>\n",
       "      <th>r_at_10</th>\n",
       "      <th>r_at_30</th>\n",
       "    </tr>\n",
       "  </thead>\n",
       "  <tbody>\n",
       "    <tr>\n",
       "      <th>0</th>\n",
       "      <td>RF</td>\n",
       "      <td>(DecisionTreeClassifier(class_weight=None, cri...</td>\n",
       "      <td>{'max_depth': 1, 'max_features': 'sqrt', 'min_...</td>\n",
       "      <td>0.359523</td>\n",
       "      <td>0.516430</td>\n",
       "      <td>0.692773</td>\n",
       "      <td>1.000000</td>\n",
       "      <td>1.000000</td>\n",
       "      <td>1.000000</td>\n",
       "      <td>1.000000</td>\n",
       "      <td>0.014416</td>\n",
       "      <td>0.072166</td>\n",
       "      <td>0.144333</td>\n",
       "      <td>0.433028</td>\n",
       "    </tr>\n",
       "    <tr>\n",
       "      <th>1</th>\n",
       "      <td>DT</td>\n",
       "      <td>DecisionTreeClassifier(class_weight=None, crit...</td>\n",
       "      <td>{'criterion': 'gini', 'max_depth': 1, 'max_fea...</td>\n",
       "      <td>0.235369</td>\n",
       "      <td>0.578236</td>\n",
       "      <td>0.692773</td>\n",
       "      <td>1.000000</td>\n",
       "      <td>1.000000</td>\n",
       "      <td>1.000000</td>\n",
       "      <td>1.000000</td>\n",
       "      <td>0.014416</td>\n",
       "      <td>0.072166</td>\n",
       "      <td>0.144333</td>\n",
       "      <td>0.433028</td>\n",
       "    </tr>\n",
       "    <tr>\n",
       "      <th>2</th>\n",
       "      <td>KNN</td>\n",
       "      <td>KNeighborsClassifier(algorithm='auto', leaf_si...</td>\n",
       "      <td>{'algorithm': 'auto', 'n_neighbors': 5, 'weigh...</td>\n",
       "      <td>1796.973305</td>\n",
       "      <td>0.584350</td>\n",
       "      <td>0.659861</td>\n",
       "      <td>1.000000</td>\n",
       "      <td>1.000000</td>\n",
       "      <td>0.638294</td>\n",
       "      <td>0.806995</td>\n",
       "      <td>0.014416</td>\n",
       "      <td>0.072166</td>\n",
       "      <td>0.092127</td>\n",
       "      <td>0.349451</td>\n",
       "    </tr>\n",
       "    <tr>\n",
       "      <th>3</th>\n",
       "      <td>ET</td>\n",
       "      <td>(ExtraTreeClassifier(class_weight=None, criter...</td>\n",
       "      <td>{'criterion': 'gini', 'max_depth': 1, 'max_fea...</td>\n",
       "      <td>0.304251</td>\n",
       "      <td>0.503666</td>\n",
       "      <td>0.692773</td>\n",
       "      <td>1.000000</td>\n",
       "      <td>1.000000</td>\n",
       "      <td>1.000000</td>\n",
       "      <td>1.000000</td>\n",
       "      <td>0.014416</td>\n",
       "      <td>0.072166</td>\n",
       "      <td>0.144333</td>\n",
       "      <td>0.433028</td>\n",
       "    </tr>\n",
       "    <tr>\n",
       "      <th>4</th>\n",
       "      <td>AB</td>\n",
       "      <td>(DecisionTreeClassifier(class_weight=None, cri...</td>\n",
       "      <td>{'algorithm': 'SAMME', 'n_estimators': 1}</td>\n",
       "      <td>0.411669</td>\n",
       "      <td>0.578236</td>\n",
       "      <td>0.692773</td>\n",
       "      <td>1.000000</td>\n",
       "      <td>1.000000</td>\n",
       "      <td>1.000000</td>\n",
       "      <td>1.000000</td>\n",
       "      <td>0.014416</td>\n",
       "      <td>0.072166</td>\n",
       "      <td>0.144333</td>\n",
       "      <td>0.433028</td>\n",
       "    </tr>\n",
       "    <tr>\n",
       "      <th>5</th>\n",
       "      <td>GB</td>\n",
       "      <td>([DecisionTreeRegressor(criterion='friedman_ms...</td>\n",
       "      <td>{'learning_rate': 0.1, 'max_depth': 1, 'n_esti...</td>\n",
       "      <td>1.041240</td>\n",
       "      <td>0.578236</td>\n",
       "      <td>0.692773</td>\n",
       "      <td>1.000000</td>\n",
       "      <td>1.000000</td>\n",
       "      <td>1.000000</td>\n",
       "      <td>1.000000</td>\n",
       "      <td>0.014416</td>\n",
       "      <td>0.072166</td>\n",
       "      <td>0.144333</td>\n",
       "      <td>0.433028</td>\n",
       "    </tr>\n",
       "    <tr>\n",
       "      <th>6</th>\n",
       "      <td>LR</td>\n",
       "      <td>LogisticRegression(C=0.01, class_weight=None, ...</td>\n",
       "      <td>{'C': 0.01, 'penalty': 'l1'}</td>\n",
       "      <td>1.250430</td>\n",
       "      <td>0.647711</td>\n",
       "      <td>0.696290</td>\n",
       "      <td>0.844130</td>\n",
       "      <td>0.853215</td>\n",
       "      <td>0.846340</td>\n",
       "      <td>0.812791</td>\n",
       "      <td>0.012169</td>\n",
       "      <td>0.061573</td>\n",
       "      <td>0.122155</td>\n",
       "      <td>0.351961</td>\n",
       "    </tr>\n",
       "    <tr>\n",
       "      <th>7</th>\n",
       "      <td>NB</td>\n",
       "      <td>GaussianNB(priors=None)</td>\n",
       "      <td>{}</td>\n",
       "      <td>0.820449</td>\n",
       "      <td>0.614401</td>\n",
       "      <td>0.341110</td>\n",
       "      <td>0.801619</td>\n",
       "      <td>0.793773</td>\n",
       "      <td>0.796199</td>\n",
       "      <td>0.783206</td>\n",
       "      <td>0.011556</td>\n",
       "      <td>0.057284</td>\n",
       "      <td>0.114918</td>\n",
       "      <td>0.339150</td>\n",
       "    </tr>\n",
       "  </tbody>\n",
       "</table>\n",
       "</div>"
      ],
      "text/plain": [
       "  model_type                                                clf  \\\n",
       "0         RF  (DecisionTreeClassifier(class_weight=None, cri...   \n",
       "1         DT  DecisionTreeClassifier(class_weight=None, crit...   \n",
       "2        KNN  KNeighborsClassifier(algorithm='auto', leaf_si...   \n",
       "3         ET  (ExtraTreeClassifier(class_weight=None, criter...   \n",
       "4         AB  (DecisionTreeClassifier(class_weight=None, cri...   \n",
       "5         GB  ([DecisionTreeRegressor(criterion='friedman_ms...   \n",
       "6         LR  LogisticRegression(C=0.01, class_weight=None, ...   \n",
       "7         NB                            GaussianNB(priors=None)   \n",
       "\n",
       "                                          parameters    time_used   auc-roc  \\\n",
       "0  {'max_depth': 1, 'max_features': 'sqrt', 'min_...     0.359523  0.516430   \n",
       "1  {'criterion': 'gini', 'max_depth': 1, 'max_fea...     0.235369  0.578236   \n",
       "2  {'algorithm': 'auto', 'n_neighbors': 5, 'weigh...  1796.973305  0.584350   \n",
       "3  {'criterion': 'gini', 'max_depth': 1, 'max_fea...     0.304251  0.503666   \n",
       "4          {'algorithm': 'SAMME', 'n_estimators': 1}     0.411669  0.578236   \n",
       "5  {'learning_rate': 0.1, 'max_depth': 1, 'n_esti...     1.041240  0.578236   \n",
       "6                       {'C': 0.01, 'penalty': 'l1'}     1.250430  0.647711   \n",
       "7                                                 {}     0.820449  0.614401   \n",
       "\n",
       "   accuracy    p_at_1    p_at_1   p_at_10   p_at_30    r_at_1    r_at_5  \\\n",
       "0  0.692773  1.000000  1.000000  1.000000  1.000000  0.014416  0.072166   \n",
       "1  0.692773  1.000000  1.000000  1.000000  1.000000  0.014416  0.072166   \n",
       "2  0.659861  1.000000  1.000000  0.638294  0.806995  0.014416  0.072166   \n",
       "3  0.692773  1.000000  1.000000  1.000000  1.000000  0.014416  0.072166   \n",
       "4  0.692773  1.000000  1.000000  1.000000  1.000000  0.014416  0.072166   \n",
       "5  0.692773  1.000000  1.000000  1.000000  1.000000  0.014416  0.072166   \n",
       "6  0.696290  0.844130  0.853215  0.846340  0.812791  0.012169  0.061573   \n",
       "7  0.341110  0.801619  0.793773  0.796199  0.783206  0.011556  0.057284   \n",
       "\n",
       "    r_at_10   r_at_30  \n",
       "0  0.144333  0.433028  \n",
       "1  0.144333  0.433028  \n",
       "2  0.092127  0.349451  \n",
       "3  0.144333  0.433028  \n",
       "4  0.144333  0.433028  \n",
       "5  0.144333  0.433028  \n",
       "6  0.122155  0.351961  \n",
       "7  0.114918  0.339150  "
      ]
     },
     "execution_count": 86,
     "metadata": {},
     "output_type": "execute_result"
    }
   ],
   "source": [
    "models_to_run = ['RF','DT', 'KNN', 'ET', 'AB', 'GB', 'LR', 'NB']\n",
    "ap.go(train_test_one[0], train_test_one[2], ser1s, ser2s, 'test', models_to_run)"
   ]
  }
 ],
 "metadata": {
  "kernelspec": {
   "display_name": "Python 3",
   "language": "python",
   "name": "python3"
  },
  "language_info": {
   "codemirror_mode": {
    "name": "ipython",
    "version": 3
   },
   "file_extension": ".py",
   "mimetype": "text/x-python",
   "name": "python",
   "nbconvert_exporter": "python",
   "pygments_lexer": "ipython3",
   "version": "3.6.3"
  }
 },
 "nbformat": 4,
 "nbformat_minor": 2
}
